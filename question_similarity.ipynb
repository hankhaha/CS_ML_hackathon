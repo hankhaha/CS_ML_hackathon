{
 "cells": [
  {
   "cell_type": "code",
   "execution_count": 3,
   "metadata": {},
   "outputs": [
    {
     "name": "stdout",
     "output_type": "stream",
     "text": [
      "Collecting sentence-transformers\n",
      "  Downloading sentence-transformers-0.4.1.2.tar.gz (64 kB)\n",
      "\u001b[K     |████████████████████████████████| 64 kB 629 kB/s  eta 0:00:01\n",
      "\u001b[?25hRequirement already satisfied: tqdm in /home/ec2-user/anaconda3/envs/pytorch_p36/lib/python3.6/site-packages (from sentence-transformers) (4.42.1)\n",
      "Requirement already satisfied: numpy in /home/ec2-user/anaconda3/envs/pytorch_p36/lib/python3.6/site-packages (from sentence-transformers) (1.19.4)\n",
      "Requirement already satisfied: scikit-learn in /home/ec2-user/anaconda3/envs/pytorch_p36/lib/python3.6/site-packages (from sentence-transformers) (0.22.1)\n",
      "Requirement already satisfied: scipy in /home/ec2-user/anaconda3/envs/pytorch_p36/lib/python3.6/site-packages (from sentence-transformers) (1.4.1)\n",
      "Requirement already satisfied: nltk in /home/ec2-user/anaconda3/envs/pytorch_p36/lib/python3.6/site-packages (from sentence-transformers) (3.4.5)\n",
      "Requirement already satisfied: six in /home/ec2-user/anaconda3/envs/pytorch_p36/lib/python3.6/site-packages (from nltk->sentence-transformers) (1.15.0)\n",
      "Requirement already satisfied: numpy in /home/ec2-user/anaconda3/envs/pytorch_p36/lib/python3.6/site-packages (from sentence-transformers) (1.19.4)\n",
      "Requirement already satisfied: joblib>=0.11 in /home/ec2-user/anaconda3/envs/pytorch_p36/lib/python3.6/site-packages (from scikit-learn->sentence-transformers) (0.14.1)\n",
      "Requirement already satisfied: scipy in /home/ec2-user/anaconda3/envs/pytorch_p36/lib/python3.6/site-packages (from sentence-transformers) (1.4.1)\n",
      "Requirement already satisfied: numpy in /home/ec2-user/anaconda3/envs/pytorch_p36/lib/python3.6/site-packages (from sentence-transformers) (1.19.4)\n",
      "Collecting sentencepiece\n",
      "  Downloading sentencepiece-0.1.95-cp36-cp36m-manylinux2014_x86_64.whl (1.2 MB)\n",
      "\u001b[K     |████████████████████████████████| 1.2 MB 23.8 MB/s eta 0:00:01\n",
      "\u001b[?25hCollecting torch>=1.6.0\n",
      "  Downloading torch-1.7.1-cp36-cp36m-manylinux1_x86_64.whl (776.8 MB)\n",
      "\u001b[K     |████████████████████████████████| 776.8 MB 7.2 kB/s  eta 0:00:01     |███████████▊                    | 283.5 MB 68.3 MB/s eta 0:00:08\n",
      "\u001b[?25hRequirement already satisfied: typing-extensions in /home/ec2-user/anaconda3/envs/pytorch_p36/lib/python3.6/site-packages (from torch>=1.6.0->sentence-transformers) (3.7.4.3)\n",
      "Requirement already satisfied: numpy in /home/ec2-user/anaconda3/envs/pytorch_p36/lib/python3.6/site-packages (from sentence-transformers) (1.19.4)\n",
      "Collecting dataclasses\n",
      "  Downloading dataclasses-0.8-py3-none-any.whl (19 kB)\n",
      "Collecting transformers<5.0.0,>=3.1.0\n",
      "  Downloading transformers-4.2.1-py3-none-any.whl (1.8 MB)\n",
      "\u001b[K     |████████████████████████████████| 1.8 MB 55.4 MB/s eta 0:00:01\n",
      "\u001b[?25hRequirement already satisfied: importlib-metadata in /home/ec2-user/anaconda3/envs/pytorch_p36/lib/python3.6/site-packages (from transformers<5.0.0,>=3.1.0->sentence-transformers) (3.1.0)\n",
      "Requirement already satisfied: requests in /home/ec2-user/anaconda3/envs/pytorch_p36/lib/python3.6/site-packages (from transformers<5.0.0,>=3.1.0->sentence-transformers) (2.25.0)\n",
      "Requirement already satisfied: numpy in /home/ec2-user/anaconda3/envs/pytorch_p36/lib/python3.6/site-packages (from sentence-transformers) (1.19.4)\n",
      "Requirement already satisfied: tqdm in /home/ec2-user/anaconda3/envs/pytorch_p36/lib/python3.6/site-packages (from sentence-transformers) (4.42.1)\n",
      "Requirement already satisfied: packaging in /home/ec2-user/anaconda3/envs/pytorch_p36/lib/python3.6/site-packages (from transformers<5.0.0,>=3.1.0->sentence-transformers) (20.7)\n",
      "Requirement already satisfied: filelock in /home/ec2-user/anaconda3/envs/pytorch_p36/lib/python3.6/site-packages (from transformers<5.0.0,>=3.1.0->sentence-transformers) (3.0.12)\n",
      "Requirement already satisfied: zipp>=0.5 in /home/ec2-user/anaconda3/envs/pytorch_p36/lib/python3.6/site-packages (from importlib-metadata->transformers<5.0.0,>=3.1.0->sentence-transformers) (3.4.0)\n",
      "Requirement already satisfied: pyparsing>=2.0.2 in /home/ec2-user/anaconda3/envs/pytorch_p36/lib/python3.6/site-packages (from packaging->transformers<5.0.0,>=3.1.0->sentence-transformers) (2.4.7)\n",
      "Collecting regex!=2019.12.17\n",
      "  Downloading regex-2020.11.13-cp36-cp36m-manylinux2014_x86_64.whl (723 kB)\n",
      "\u001b[K     |████████████████████████████████| 723 kB 55.5 MB/s eta 0:00:01\n",
      "\u001b[?25hRequirement already satisfied: urllib3<1.27,>=1.21.1 in /home/ec2-user/anaconda3/envs/pytorch_p36/lib/python3.6/site-packages (from requests->transformers<5.0.0,>=3.1.0->sentence-transformers) (1.25.11)\n",
      "Requirement already satisfied: certifi>=2017.4.17 in /home/ec2-user/anaconda3/envs/pytorch_p36/lib/python3.6/site-packages (from requests->transformers<5.0.0,>=3.1.0->sentence-transformers) (2020.11.8)\n",
      "Requirement already satisfied: chardet<4,>=3.0.2 in /home/ec2-user/anaconda3/envs/pytorch_p36/lib/python3.6/site-packages (from requests->transformers<5.0.0,>=3.1.0->sentence-transformers) (3.0.4)\n",
      "Requirement already satisfied: idna<3,>=2.5 in /home/ec2-user/anaconda3/envs/pytorch_p36/lib/python3.6/site-packages (from requests->transformers<5.0.0,>=3.1.0->sentence-transformers) (2.10)\n",
      "Collecting sacremoses\n",
      "  Downloading sacremoses-0.0.43.tar.gz (883 kB)\n",
      "\u001b[K     |████████████████████████████████| 883 kB 57.5 MB/s eta 0:00:01\n",
      "\u001b[?25hRequirement already satisfied: six in /home/ec2-user/anaconda3/envs/pytorch_p36/lib/python3.6/site-packages (from nltk->sentence-transformers) (1.15.0)\n",
      "Requirement already satisfied: click in /home/ec2-user/anaconda3/envs/pytorch_p36/lib/python3.6/site-packages (from sacremoses->transformers<5.0.0,>=3.1.0->sentence-transformers) (7.0)\n",
      "Requirement already satisfied: joblib>=0.11 in /home/ec2-user/anaconda3/envs/pytorch_p36/lib/python3.6/site-packages (from scikit-learn->sentence-transformers) (0.14.1)\n",
      "Requirement already satisfied: tqdm in /home/ec2-user/anaconda3/envs/pytorch_p36/lib/python3.6/site-packages (from sentence-transformers) (4.42.1)\n",
      "Collecting tokenizers==0.9.4\n",
      "  Downloading tokenizers-0.9.4-cp36-cp36m-manylinux2010_x86_64.whl (2.9 MB)\n",
      "\u001b[K     |████████████████████████████████| 2.9 MB 33.6 MB/s eta 0:00:01\n",
      "\u001b[?25hBuilding wheels for collected packages: sentence-transformers, sacremoses\n",
      "  Building wheel for sentence-transformers (setup.py) ... \u001b[?25ldone\n",
      "\u001b[?25h  Created wheel for sentence-transformers: filename=sentence_transformers-0.4.1.2-py3-none-any.whl size=103066 sha256=d2d665e9a85180428587f410b5f742723e1b82837900e7b660b21e72abc0a641\n",
      "  Stored in directory: /home/ec2-user/.cache/pip/wheels/55/89/bd/ba279427485afb4c3a82327faa6e5b01973f8971112c248690\n",
      "  Building wheel for sacremoses (setup.py) ... \u001b[?25ldone\n",
      "\u001b[?25h  Created wheel for sacremoses: filename=sacremoses-0.0.43-py3-none-any.whl size=893259 sha256=9b7bc716dc99d05e3122f97443c0b2cc55c6d8d6780b1716bd50b0ca8639ecfb\n",
      "  Stored in directory: /home/ec2-user/.cache/pip/wheels/49/25/98/cdea9c79b2d9a22ccc59540b1784b67f06b633378e97f58da2\n",
      "Successfully built sentence-transformers sacremoses\n",
      "Installing collected packages: regex, tokenizers, sacremoses, dataclasses, transformers, torch, sentencepiece, sentence-transformers\n",
      "  Attempting uninstall: torch\n",
      "    Found existing installation: torch 1.4.0\n",
      "    Uninstalling torch-1.4.0:\n",
      "      Successfully uninstalled torch-1.4.0\n",
      "\u001b[31mERROR: pip's dependency resolver does not currently take into account all the packages that are installed. This behaviour is the source of the following dependency conflicts.\n",
      "fastai 1.0.61 requires nvidia-ml-py3, which is not installed.\u001b[0m\n",
      "Successfully installed dataclasses-0.8 regex-2020.11.13 sacremoses-0.0.43 sentence-transformers-0.4.1.2 sentencepiece-0.1.95 tokenizers-0.9.4 torch-1.7.1 transformers-4.2.1\n",
      "\u001b[33mWARNING: You are using pip version 20.3; however, version 20.3.3 is available.\n",
      "You should consider upgrading via the '/home/ec2-user/anaconda3/envs/pytorch_p36/bin/python -m pip install --upgrade pip' command.\u001b[0m\n",
      "Note: you may need to restart the kernel to use updated packages.\n"
     ]
    }
   ],
   "source": [
    "# install sentence-transformer with pip\n",
    "%pip install -U sentence-transformers\n",
    "# !pip install cufflinks --upgrade"
   ]
  },
  {
   "cell_type": "code",
   "execution_count": 4,
   "metadata": {},
   "outputs": [
    {
     "name": "stdout",
     "output_type": "stream",
     "text": [
      "/home/ec2-user/SageMaker/hank\n",
      "Python version\n",
      "3.6.10 |Anaconda, Inc.| (default, Jan  7 2020, 21:14:29) \n",
      "[GCC 7.3.0]\n",
      "PyTorch version\n",
      "1.7.1\n"
     ]
    }
   ],
   "source": [
    "# import needed libraries\n",
    "from sentence_transformers import SentenceTransformer, util\n",
    "from sklearn.cluster import KMeans\n",
    "import pandas as pd \n",
    "import numpy as np\n",
    "import re\n",
    "import seaborn as sns\n",
    "import matplotlib.pyplot as plt\n",
    "import time\n",
    "#Plotly Tools\n",
    "from plotly.offline import init_notebook_mode, iplot\n",
    "import torch\n",
    "import sys\n",
    "import os\n",
    "path = os.getcwd()\n",
    "print(path)\n",
    "print(\"Python version\")\n",
    "print (sys.version)\n",
    "print(\"PyTorch version\")\n",
    "print(torch.__version__)"
   ]
  },
  {
   "cell_type": "code",
   "execution_count": 5,
   "metadata": {},
   "outputs": [],
   "source": [
    "# load the train and test set\n",
    "df_q_d = pd.read_csv(\"train_dataset.csv\", error_bad_lines=False, engine=\"python\")\n",
    "df_test = pd.read_csv(\"test_dataset.csv\", error_bad_lines=False, engine=\"python\")"
   ]
  },
  {
   "cell_type": "code",
   "execution_count": 165,
   "metadata": {},
   "outputs": [
    {
     "name": "stdout",
     "output_type": "stream",
     "text": [
      "number of unique document: 10332\n"
     ]
    },
    {
     "data": {
      "text/plain": [
       "0    31114\n",
       "1    11892\n",
       "Name: label, dtype: int64"
      ]
     },
     "execution_count": 165,
     "metadata": {},
     "output_type": "execute_result"
    }
   ],
   "source": [
    "# data balance\n",
    "print('number of unique document:',df_q_d.document.nunique())\n",
    "df_q_d['label'].value_counts()"
   ]
  },
  {
   "cell_type": "markdown",
   "metadata": {},
   "source": [
    "## Data Preprocessing"
   ]
  },
  {
   "cell_type": "code",
   "execution_count": 7,
   "metadata": {},
   "outputs": [],
   "source": [
    "def preprocess(text):\n",
    "    \"\"\"\n",
    "    clean text column\n",
    "    \"\"\"\n",
    "    text = text.str.replace(\"(<br/>)\", \"\")\n",
    "    text = text.str.replace('(<a).*(>).*(</a>)', '')\n",
    "    text = text.str.replace('(&amp)', '')\n",
    "    text = text.str.replace('(&gt)', '')\n",
    "    text = text.str.replace('(&lt)', '')\n",
    "    text = text.str.replace('(\\xa0)', ' ')\n",
    "    \"\"\"\n",
    "    Remove URLs from a sample string\n",
    "    \"\"\"\n",
    "    text = text.str.replace(r\"\\(http\\S+\\)\", \" <url>\")\n",
    "    text = text.str.replace(r\"\\(www\\S+\\)\", \" <url>\")\n",
    "        \n",
    "    return text"
   ]
  },
  {
   "cell_type": "code",
   "execution_count": 8,
   "metadata": {},
   "outputs": [],
   "source": [
    "def clean_text(sample):\n",
    "    \"\"\"Remove URLs from a sample string\"\"\"\n",
    "    sample = re.sub(r\"\\(http\\S+\\)\", \" <url>\", sample)\n",
    "    sample = re.sub(r\"\\(www\\S+\\)\", \" <url>\", sample)\n",
    "    \n",
    "    \"\"\"Remove \\n from a sample string\"\"\"\n",
    "    sample = re.sub(r'\\n', ' ', sample)\n",
    "    \n",
    "    \"\"\"Lower case\"\"\"\n",
    "    sample = sample.lower()\n",
    "\n",
    "    return sample"
   ]
  },
  {
   "cell_type": "code",
   "execution_count": 9,
   "metadata": {},
   "outputs": [],
   "source": [
    "df_q_d['query_cln'] = df_q_d['query'].apply(lambda x: clean_text(x))\n",
    "df_q_d['document_cln'] = df_q_d['document'].apply(lambda x: clean_text(x))\n",
    "df_test['query_cln'] = df_test['query'].apply(lambda x: clean_text(x))"
   ]
  },
  {
   "cell_type": "code",
   "execution_count": 10,
   "metadata": {},
   "outputs": [],
   "source": [
    "# create new feature for the length of the query & document \n",
    "df_q_d['query_len'] = df_q_d['query'].astype(str).apply(len)\n",
    "df_q_d['document_len'] = df_q_d['document'].astype(str).apply(len)\n",
    "# create new feature for the word count of the query & document\n",
    "df_q_d['query_word_count'] = df_q_d['query'].apply(lambda x: len(str(x).split()))\n",
    "df_q_d['document_word_count'] = df_q_d['document'].apply(lambda x: len(str(x).split()))"
   ]
  },
  {
   "cell_type": "code",
   "execution_count": 164,
   "metadata": {},
   "outputs": [
    {
     "data": {
      "text/html": [
       "<div>\n",
       "<style scoped>\n",
       "    .dataframe tbody tr th:only-of-type {\n",
       "        vertical-align: middle;\n",
       "    }\n",
       "\n",
       "    .dataframe tbody tr th {\n",
       "        vertical-align: top;\n",
       "    }\n",
       "\n",
       "    .dataframe thead th {\n",
       "        text-align: right;\n",
       "    }\n",
       "</style>\n",
       "<table border=\"1\" class=\"dataframe\">\n",
       "  <thead>\n",
       "    <tr style=\"text-align: right;\">\n",
       "      <th></th>\n",
       "      <th>query</th>\n",
       "      <th>document</th>\n",
       "      <th>label</th>\n",
       "      <th>query_cln</th>\n",
       "      <th>document_cln</th>\n",
       "      <th>query_len</th>\n",
       "      <th>document_len</th>\n",
       "      <th>query_word_count</th>\n",
       "      <th>document_word_count</th>\n",
       "      <th>amazon_related</th>\n",
       "      <th>amazon_related_doc</th>\n",
       "    </tr>\n",
       "  </thead>\n",
       "  <tbody>\n",
       "    <tr>\n",
       "      <th>0</th>\n",
       "      <td>Cancel digital order I didn’t order.</td>\n",
       "      <td>Cancel an Accidental Purchase: You are able to...</td>\n",
       "      <td>0</td>\n",
       "      <td>cancel digital order i didn’t order.</td>\n",
       "      <td>cancel an accidental purchase: you are able to...</td>\n",
       "      <td>36</td>\n",
       "      <td>1434</td>\n",
       "      <td>6</td>\n",
       "      <td>161</td>\n",
       "      <td>0</td>\n",
       "      <td>1</td>\n",
       "    </tr>\n",
       "    <tr>\n",
       "      <th>1</th>\n",
       "      <td>NEED TO KNOW THE STATUS OF RETURNED ITEM</td>\n",
       "      <td>Verify Continuing Student Status: If you're a ...</td>\n",
       "      <td>0</td>\n",
       "      <td>need to know the status of returned item</td>\n",
       "      <td>verify continuing student status: if you're a ...</td>\n",
       "      <td>40</td>\n",
       "      <td>1449</td>\n",
       "      <td>8</td>\n",
       "      <td>210</td>\n",
       "      <td>1</td>\n",
       "      <td>1</td>\n",
       "    </tr>\n",
       "    <tr>\n",
       "      <th>2</th>\n",
       "      <td>I received a gift off my registry and it was s...</td>\n",
       "      <td>Returning Gifts from Your Baby Registry: The e...</td>\n",
       "      <td>0</td>\n",
       "      <td>i received a gift off my registry and it was s...</td>\n",
       "      <td>returning gifts from your baby registry: the e...</td>\n",
       "      <td>139</td>\n",
       "      <td>1080</td>\n",
       "      <td>29</td>\n",
       "      <td>146</td>\n",
       "      <td>1</td>\n",
       "      <td>1</td>\n",
       "    </tr>\n",
       "    <tr>\n",
       "      <th>3</th>\n",
       "      <td>How do I get internet on Amazon Fire?</td>\n",
       "      <td>Connect Your Fire Tablet to Wi-Fi\\n\\nAccess Wi...</td>\n",
       "      <td>1</td>\n",
       "      <td>how do i get internet on amazon fire?</td>\n",
       "      <td>connect your fire tablet to wi-fi  access wi-f...</td>\n",
       "      <td>37</td>\n",
       "      <td>325</td>\n",
       "      <td>8</td>\n",
       "      <td>55</td>\n",
       "      <td>1</td>\n",
       "      <td>1</td>\n",
       "    </tr>\n",
       "    <tr>\n",
       "      <th>4</th>\n",
       "      <td>I received an email saying my account info has...</td>\n",
       "      <td>Protect Your System: Some suspicious emails co...</td>\n",
       "      <td>0</td>\n",
       "      <td>i received an email saying my account info has...</td>\n",
       "      <td>protect your system: some suspicious emails co...</td>\n",
       "      <td>68</td>\n",
       "      <td>2752</td>\n",
       "      <td>12</td>\n",
       "      <td>408</td>\n",
       "      <td>1</td>\n",
       "      <td>1</td>\n",
       "    </tr>\n",
       "  </tbody>\n",
       "</table>\n",
       "</div>"
      ],
      "text/plain": [
       "                                               query  \\\n",
       "0               Cancel digital order I didn’t order.   \n",
       "1           NEED TO KNOW THE STATUS OF RETURNED ITEM   \n",
       "2  I received a gift off my registry and it was s...   \n",
       "3              How do I get internet on Amazon Fire?   \n",
       "4  I received an email saying my account info has...   \n",
       "\n",
       "                                            document  label  \\\n",
       "0  Cancel an Accidental Purchase: You are able to...      0   \n",
       "1  Verify Continuing Student Status: If you're a ...      0   \n",
       "2  Returning Gifts from Your Baby Registry: The e...      0   \n",
       "3  Connect Your Fire Tablet to Wi-Fi\\n\\nAccess Wi...      1   \n",
       "4  Protect Your System: Some suspicious emails co...      0   \n",
       "\n",
       "                                           query_cln  \\\n",
       "0               cancel digital order i didn’t order.   \n",
       "1           need to know the status of returned item   \n",
       "2  i received a gift off my registry and it was s...   \n",
       "3              how do i get internet on amazon fire?   \n",
       "4  i received an email saying my account info has...   \n",
       "\n",
       "                                        document_cln  query_len  document_len  \\\n",
       "0  cancel an accidental purchase: you are able to...         36          1434   \n",
       "1  verify continuing student status: if you're a ...         40          1449   \n",
       "2  returning gifts from your baby registry: the e...        139          1080   \n",
       "3  connect your fire tablet to wi-fi  access wi-f...         37           325   \n",
       "4  protect your system: some suspicious emails co...         68          2752   \n",
       "\n",
       "   query_word_count  document_word_count  amazon_related  amazon_related_doc  \n",
       "0                 6                  161               0                   1  \n",
       "1                 8                  210               1                   1  \n",
       "2                29                  146               1                   1  \n",
       "3                 8                   55               1                   1  \n",
       "4                12                  408               1                   1  "
      ]
     },
     "execution_count": 164,
     "metadata": {},
     "output_type": "execute_result"
    }
   ],
   "source": [
    "df_q_d.head(5)"
   ]
  },
  {
   "cell_type": "code",
   "execution_count": 38,
   "metadata": {},
   "outputs": [],
   "source": [
    "# Very clear distinction between amazon and non-amazon questions \n",
    "# using a few search terms, we were able to distinguish between amazon & non-amazon documents\n",
    "question_searchfor = ['Amazon','amazon', 'kindle', 'fire stick',\n",
    "'refund', 'gift', 'subscription', 'password',\n",
    "'Kindle', 'shipping','channels','email','Alexa','Fire TV','item',\n",
    "'membership','book','delivery','payment', 'reviews', 'promo', 'seller', 'REFUND'\n",
    "'package', 'replace', 'credit card', 'review', 'prime', 'package', 'showtime',\n",
    "'Shipping', 'coupon', 'registry', 'Whole Foods', 'Replacement', 'PAYMENT', 'Prime',\n",
    "'charge', 'REFUND', 'AMAZON', 'renewal', 'Package',\n",
    "'Refund', 'delivered', 'account', 'credit', 'Email','•']\n",
    "            \n",
    "# create labels for amazon or non-amazon queries and documents\n",
    "df_q_d['amazon_related'] = np.where(df_q_d['query_cln'].str.contains('|'.join(question_searchfor)), 1, 0)\n",
    "df_test['amazon_related'] = np.where(df_test['query_cln'].str.contains('|'.join(question_searchfor)), 1, 0)\n",
    " \n",
    "df_q_d['amazon_related_doc'] = np.where(df_q_d['document_cln'].str.contains('|'.join(question_searchfor)), 1, 0)"
   ]
  },
  {
   "cell_type": "code",
   "execution_count": 167,
   "metadata": {},
   "outputs": [
    {
     "data": {
      "text/plain": [
       "amazon_related\n",
       "0    13134\n",
       "1    29872\n",
       "dtype: int64"
      ]
     },
     "execution_count": 167,
     "metadata": {},
     "output_type": "execute_result"
    }
   ],
   "source": [
    "# there are about 29872 amazon related questions (~69%) & \n",
    "# 13134 non-amazon related questions (~31%) in training set\n",
    "df_q_d.groupby(by= 'amazon_related').size()"
   ]
  },
  {
   "cell_type": "code",
   "execution_count": 172,
   "metadata": {},
   "outputs": [
    {
     "data": {
      "text/plain": [
       "amazon_related\n",
       "0    1115\n",
       "1    1364\n",
       "dtype: int64"
      ]
     },
     "execution_count": 172,
     "metadata": {},
     "output_type": "execute_result"
    }
   ],
   "source": [
    "# proportion of amazon/ non-amazon in test \n",
    "# In test set, there are about 1364 amazon related questions (~55%) & \n",
    "# 1115 non-amazon related questions (~45%) \n",
    "df_test.groupby(by= 'amazon_related').size()"
   ]
  },
  {
   "cell_type": "code",
   "execution_count": 171,
   "metadata": {},
   "outputs": [
    {
     "data": {
      "text/html": [
       "<div>\n",
       "<style scoped>\n",
       "    .dataframe tbody tr th:only-of-type {\n",
       "        vertical-align: middle;\n",
       "    }\n",
       "\n",
       "    .dataframe tbody tr th {\n",
       "        vertical-align: top;\n",
       "    }\n",
       "\n",
       "    .dataframe thead th {\n",
       "        text-align: right;\n",
       "    }\n",
       "</style>\n",
       "<table border=\"1\" class=\"dataframe\">\n",
       "  <thead>\n",
       "    <tr style=\"text-align: right;\">\n",
       "      <th></th>\n",
       "      <th>query</th>\n",
       "      <th>document</th>\n",
       "      <th>label</th>\n",
       "      <th>query_cln</th>\n",
       "      <th>document_cln</th>\n",
       "      <th>query_len</th>\n",
       "      <th>document_len</th>\n",
       "      <th>query_word_count</th>\n",
       "      <th>document_word_count</th>\n",
       "      <th>amazon_related</th>\n",
       "      <th>amazon_related_doc</th>\n",
       "    </tr>\n",
       "    <tr>\n",
       "      <th>amazon_related_doc</th>\n",
       "      <th></th>\n",
       "      <th></th>\n",
       "      <th></th>\n",
       "      <th></th>\n",
       "      <th></th>\n",
       "      <th></th>\n",
       "      <th></th>\n",
       "      <th></th>\n",
       "      <th></th>\n",
       "      <th></th>\n",
       "      <th></th>\n",
       "    </tr>\n",
       "  </thead>\n",
       "  <tbody>\n",
       "    <tr>\n",
       "      <th>0</th>\n",
       "      <td>2176</td>\n",
       "      <td>8118</td>\n",
       "      <td>2</td>\n",
       "      <td>2176</td>\n",
       "      <td>8118</td>\n",
       "      <td>80</td>\n",
       "      <td>736</td>\n",
       "      <td>18</td>\n",
       "      <td>163</td>\n",
       "      <td>2</td>\n",
       "      <td>1</td>\n",
       "    </tr>\n",
       "    <tr>\n",
       "      <th>1</th>\n",
       "      <td>9389</td>\n",
       "      <td>2214</td>\n",
       "      <td>2</td>\n",
       "      <td>9389</td>\n",
       "      <td>2214</td>\n",
       "      <td>178</td>\n",
       "      <td>1065</td>\n",
       "      <td>40</td>\n",
       "      <td>336</td>\n",
       "      <td>2</td>\n",
       "      <td>1</td>\n",
       "    </tr>\n",
       "  </tbody>\n",
       "</table>\n",
       "</div>"
      ],
      "text/plain": [
       "                    query  document  label  query_cln  document_cln  \\\n",
       "amazon_related_doc                                                    \n",
       "0                    2176      8118      2       2176          8118   \n",
       "1                    9389      2214      2       9389          2214   \n",
       "\n",
       "                    query_len  document_len  query_word_count  \\\n",
       "amazon_related_doc                                              \n",
       "0                          80           736                18   \n",
       "1                         178          1065                40   \n",
       "\n",
       "                    document_word_count  amazon_related  amazon_related_doc  \n",
       "amazon_related_doc                                                           \n",
       "0                                   163               2                   1  \n",
       "1                                   336               2                   1  "
      ]
     },
     "execution_count": 171,
     "metadata": {},
     "output_type": "execute_result"
    }
   ],
   "source": [
    "# there are about 2214 Amazon Related Document\n",
    "# 8835 Non-Amazon Related Documents \n",
    "df_q_d.groupby(by='amazon_related_doc').nunique()"
   ]
  },
  {
   "cell_type": "code",
   "execution_count": 41,
   "metadata": {},
   "outputs": [
    {
     "data": {
      "text/plain": [
       "query                  0\n",
       "document               0\n",
       "label                  0\n",
       "query_cln              0\n",
       "document_cln           0\n",
       "query_len              0\n",
       "document_len           0\n",
       "query_word_count       0\n",
       "document_word_count    0\n",
       "amazon_related         0\n",
       "amazon_related_doc     0\n",
       "dtype: int64"
      ]
     },
     "execution_count": 41,
     "metadata": {},
     "output_type": "execute_result"
    }
   ],
   "source": [
    "# check missing value for each field\n",
    "df_q_d.isnull().sum()"
   ]
  },
  {
   "cell_type": "markdown",
   "metadata": {},
   "source": [
    "Summary:\n",
    "1. In the training set, there are roughly **29,872** amazon related questions: ~69% & 13134 non-amazon related questions ~31% in training set\n",
    "2. Furthermore, there are **11,000** unique questions in the training set. Most questions are asked 4 times: ~70% of unqiue questions or only one time: ~15% of unique questions)\n",
    "3. Proportion of amazon/non-amazon in test\n",
    "  * ~60%% amazon/ 40% non-amazon in test\n",
    "4. Proportion of amazon questions that have an answer in dataset (can check based on the unque question) \n",
    "  * all questions have an answer"
   ]
  },
  {
   "cell_type": "code",
   "execution_count": 42,
   "metadata": {},
   "outputs": [],
   "source": [
    "# two list of sentences for amazon related questions\n",
    "training_question = df_q_d.loc[(df_q_d['amazon_related'] == 1) & (df_q_d['label'] == 1)]['query_cln'].unique().tolist()\n",
    "testing_question = df_test.loc[df_test['amazon_related'] == 1]['query_cln'].unique().tolist()"
   ]
  },
  {
   "cell_type": "code",
   "execution_count": 43,
   "metadata": {},
   "outputs": [],
   "source": [
    "# two list of sentences for non-amazon questions\n",
    "training_question_non_amazon = df_q_d.loc[(df_q_d['amazon_related'] == 0) & (df_q_d['label'] == 1)]['query_cln'].unique().tolist()\n",
    "testing_question_non_amazon = df_test.loc[df_test['amazon_related'] == 0]['query_cln'].unique().tolist()"
   ]
  },
  {
   "cell_type": "code",
   "execution_count": 44,
   "metadata": {},
   "outputs": [
    {
     "name": "stdout",
     "output_type": "stream",
     "text": [
      "8057\n",
      "1364\n"
     ]
    }
   ],
   "source": [
    "# there are roughly 8057 unique questions that are amazon related in the training dataset question while \n",
    "# 1364 in testing set \n",
    "print(len(training_question))\n",
    "print(len(testing_question))"
   ]
  },
  {
   "cell_type": "markdown",
   "metadata": {},
   "source": [
    "## EDA"
   ]
  },
  {
   "cell_type": "markdown",
   "metadata": {},
   "source": [
    "### The distribution of question length and word counts"
   ]
  },
  {
   "cell_type": "code",
   "execution_count": 15,
   "metadata": {},
   "outputs": [
    {
     "name": "stdout",
     "output_type": "stream",
     "text": [
      "count    43006.000000\n",
      "mean        51.567107\n",
      "std         29.435044\n",
      "min          9.000000\n",
      "25%         32.000000\n",
      "50%         43.000000\n",
      "75%         63.000000\n",
      "max        187.000000\n",
      "Name: query_len, dtype: float64\n"
     ]
    },
    {
     "data": {
      "text/plain": [
       "<matplotlib.axes._subplots.AxesSubplot at 0x7f9ab7b47748>"
      ]
     },
     "execution_count": 15,
     "metadata": {},
     "output_type": "execute_result"
    },
    {
     "data": {
      "image/png": "[encoded data removed]",
      "text/plain": [
       "<Figure size 432x288 with 1 Axes>"
      ]
     },
     "metadata": {
      "needs_background": "light"
     },
     "output_type": "display_data"
    }
   ],
   "source": [
    "q_lens = df_q_d['query_len']\n",
    "print(q_lens.describe())\n",
    "q_lens.hist()"
   ]
  },
  {
   "cell_type": "code",
   "execution_count": 96,
   "metadata": {},
   "outputs": [
    {
     "name": "stdout",
     "output_type": "stream",
     "text": [
      "count    43006.000000\n",
      "mean        10.252848\n",
      "std          6.251205\n",
      "min          2.000000\n",
      "25%          6.000000\n",
      "50%          9.000000\n",
      "75%         13.000000\n",
      "max         41.000000\n",
      "Name: query_word_count, dtype: float64\n"
     ]
    },
    {
     "data": {
      "text/plain": [
       "array([<matplotlib.axes._subplots.AxesSubplot object at 0x7f9aa600f8d0>,\n",
       "       <matplotlib.axes._subplots.AxesSubplot object at 0x7f99faa16780>],\n",
       "      dtype=object)"
      ]
     },
     "execution_count": 96,
     "metadata": {},
     "output_type": "execute_result"
    },
    {
     "data": {
      "image/png": "[encoded data removed]",
      "text/plain": [
       "<Figure size 432x288 with 2 Axes>"
      ]
     },
     "metadata": {
      "needs_background": "light"
     },
     "output_type": "display_data"
    }
   ],
   "source": [
    "q_word_count = df_q_d['query_word_count']\n",
    "print(q_word_count.describe())\n",
    "df_q_d.hist(column='query_word_count', by='amazon_related')"
   ]
  },
  {
   "cell_type": "markdown",
   "metadata": {},
   "source": [
    "### The distribution of document length and word count"
   ]
  },
  {
   "cell_type": "code",
   "execution_count": 17,
   "metadata": {},
   "outputs": [
    {
     "name": "stdout",
     "output_type": "stream",
     "text": [
      "count    43006.000000\n",
      "mean      1189.230479\n",
      "std        705.883182\n",
      "min         38.000000\n",
      "25%        539.000000\n",
      "50%       1133.000000\n",
      "75%       1704.000000\n",
      "max       3965.000000\n",
      "Name: document_len, dtype: float64\n"
     ]
    },
    {
     "data": {
      "text/plain": [
       "<matplotlib.axes._subplots.AxesSubplot at 0x7f9ab73f5e48>"
      ]
     },
     "execution_count": 17,
     "metadata": {},
     "output_type": "execute_result"
    },
    {
     "data": {
      "image/png": "[encoded data removed]",
      "text/plain": [
       "<Figure size 432x288 with 1 Axes>"
      ]
     },
     "metadata": {
      "needs_background": "light"
     },
     "output_type": "display_data"
    }
   ],
   "source": [
    "d_lens = df_q_d['document_len']\n",
    "print(d_lens.describe())\n",
    "d_lens.hist()"
   ]
  },
  {
   "cell_type": "code",
   "execution_count": 18,
   "metadata": {},
   "outputs": [
    {
     "name": "stdout",
     "output_type": "stream",
     "text": [
      "count    43006.000000\n",
      "mean       177.471213\n",
      "std        104.825797\n",
      "min          6.000000\n",
      "25%         89.000000\n",
      "50%        162.000000\n",
      "75%        250.000000\n",
      "max        658.000000\n",
      "Name: document_word_count, dtype: float64\n"
     ]
    },
    {
     "data": {
      "text/plain": [
       "<matplotlib.axes._subplots.AxesSubplot at 0x7f9ab731a470>"
      ]
     },
     "execution_count": 18,
     "metadata": {},
     "output_type": "execute_result"
    },
    {
     "data": {
      "image/png": "[encoded data removed]",
      "text/plain": [
       "<Figure size 432x288 with 1 Axes>"
      ]
     },
     "metadata": {
      "needs_background": "light"
     },
     "output_type": "display_data"
    }
   ],
   "source": [
    "d_word_count = df_q_d['document_word_count']\n",
    "print(d_word_count.describe())\n",
    "d_word_count.hist()"
   ]
  },
  {
   "cell_type": "code",
   "execution_count": 183,
   "metadata": {},
   "outputs": [
    {
     "data": {
      "text/html": [
       "<div>\n",
       "<style scoped>\n",
       "    .dataframe tbody tr th:only-of-type {\n",
       "        vertical-align: middle;\n",
       "    }\n",
       "\n",
       "    .dataframe tbody tr th {\n",
       "        vertical-align: top;\n",
       "    }\n",
       "\n",
       "    .dataframe thead th {\n",
       "        text-align: right;\n",
       "    }\n",
       "</style>\n",
       "<table border=\"1\" class=\"dataframe\">\n",
       "  <thead>\n",
       "    <tr style=\"text-align: right;\">\n",
       "      <th></th>\n",
       "      <th>query</th>\n",
       "      <th>document</th>\n",
       "      <th>label</th>\n",
       "      <th>qeury_cln</th>\n",
       "      <th>document_cln</th>\n",
       "      <th>query_len</th>\n",
       "      <th>document_len</th>\n",
       "      <th>query_word_count</th>\n",
       "      <th>document_word_count</th>\n",
       "      <th>query_cln</th>\n",
       "      <th>amazon_related</th>\n",
       "    </tr>\n",
       "  </thead>\n",
       "  <tbody>\n",
       "    <tr>\n",
       "      <th>0</th>\n",
       "      <td>Cancel digital order I didn’t order.</td>\n",
       "      <td>Cancel an Accidental Purchase: You are able to...</td>\n",
       "      <td>0</td>\n",
       "      <td>cancel digital order i didn’t order.</td>\n",
       "      <td>cancel an accidental purchase: you are able to...</td>\n",
       "      <td>36</td>\n",
       "      <td>1434</td>\n",
       "      <td>6</td>\n",
       "      <td>161</td>\n",
       "      <td>cancel digital order i didn’t order.</td>\n",
       "      <td>1</td>\n",
       "    </tr>\n",
       "    <tr>\n",
       "      <th>1</th>\n",
       "      <td>NEED TO KNOW THE STATUS OF RETURNED ITEM</td>\n",
       "      <td>Verify Continuing Student Status: If you're a ...</td>\n",
       "      <td>0</td>\n",
       "      <td>need to know the status of returned item</td>\n",
       "      <td>verify continuing student status: if you're a ...</td>\n",
       "      <td>40</td>\n",
       "      <td>1449</td>\n",
       "      <td>8</td>\n",
       "      <td>210</td>\n",
       "      <td>need to know the status of returned item</td>\n",
       "      <td>1</td>\n",
       "    </tr>\n",
       "  </tbody>\n",
       "</table>\n",
       "</div>"
      ],
      "text/plain": [
       "                                      query  \\\n",
       "0      Cancel digital order I didn’t order.   \n",
       "1  NEED TO KNOW THE STATUS OF RETURNED ITEM   \n",
       "\n",
       "                                            document  label  \\\n",
       "0  Cancel an Accidental Purchase: You are able to...      0   \n",
       "1  Verify Continuing Student Status: If you're a ...      0   \n",
       "\n",
       "                                  qeury_cln  \\\n",
       "0      cancel digital order i didn’t order.   \n",
       "1  need to know the status of returned item   \n",
       "\n",
       "                                        document_cln  query_len  document_len  \\\n",
       "0  cancel an accidental purchase: you are able to...         36          1434   \n",
       "1  verify continuing student status: if you're a ...         40          1449   \n",
       "\n",
       "   query_word_count  document_word_count  \\\n",
       "0                 6                  161   \n",
       "1                 8                  210   \n",
       "\n",
       "                                  query_cln  amazon_related  \n",
       "0      cancel digital order i didn’t order.               1  \n",
       "1  need to know the status of returned item               1  "
      ]
     },
     "execution_count": 183,
     "metadata": {},
     "output_type": "execute_result"
    }
   ],
   "source": [
    "df_q_d.head(2)"
   ]
  },
  {
   "cell_type": "markdown",
   "metadata": {},
   "source": [
    "## Load Sentence-Transformer Pre-Trained Model"
   ]
  },
  {
   "cell_type": "code",
   "execution_count": null,
   "metadata": {},
   "outputs": [],
   "source": [
    "# getting SSL error in downloading model embeddings \n",
    "# https://public.ukp.informatik.tu-darmstadt.de/reimers/sentence-transformers/v0.2/\n",
    "# download the models if there is an error loading model from SentenceTransformer\n",
    "! wget --no-check-certificate https://public.ukp.informatik.tu-darmstadt.de/reimers/sentence-transformers/v0.2/distilbert-base-nli-stsb-quora-ranking.zip\n",
    "# !unzip /content/bert-large-nli-stsb-mean-tokens.zip -d /root/.cache/torch/sentence_transformers/sbert.net_models_bert-large-nli-stsb-mean-tokens\n",
    "!unzip /home/ec2-user/SageMaker/hank/distilbert-base-nli-stsb-quora-ranking.zip -d /home/ec2-user/SageMaker/hank/sbert.net_models_distilbert-base-nli-stsb-quora-ranking\n"
   ]
  },
  {
   "cell_type": "code",
   "execution_count": 24,
   "metadata": {},
   "outputs": [],
   "source": [
    "pretrained_model = 'paraphrase-distilroberta-base-v1'\n",
    "# download pretrained model, pretrained models can be loaded by just passing the model name \n",
    "# model = SentenceTransformer('distilbert-base-nli-stsb-quora-ranking')\n",
    "model = SentenceTransformer('/home/ec2-user/SageMaker/hank/sbert.net_models_{0}'.format(pretrained_model))\n",
    "# model = SentenceTransformer('quora-distilbert-base')"
   ]
  },
  {
   "cell_type": "code",
   "execution_count": 20,
   "metadata": {},
   "outputs": [],
   "source": [
    "# drop duplicate question in the list\n",
    "sentences= list(set(training_question) | set(testing_question))\n",
    "sentences_non_amazon= list(set(training_question_non_amazon) | set(testing_question_non_amazon))"
   ]
  },
  {
   "cell_type": "code",
   "execution_count": 21,
   "metadata": {},
   "outputs": [
    {
     "name": "stdout",
     "output_type": "stream",
     "text": [
      "9195\n",
      "4284\n"
     ]
    }
   ],
   "source": [
    "print(len(sentences))\n",
    "print(len(sentences_non_amazon))"
   ]
  },
  {
   "cell_type": "code",
   "execution_count": 22,
   "metadata": {},
   "outputs": [
    {
     "data": {
      "text/plain": [
       "['what does safe mode on kindle fire mean for amazon?',\n",
       " 'how do you cancel a gift card reload on amazon?',\n",
       " 'i never received my refund voucher',\n",
       " 'information about fraudulent charges using one of my companies credit cards',\n",
       " 'hello i have someone sending me a gift and wanted to know about',\n",
       " 'does amazon need my phone number?',\n",
       " 'what is amazon authentication?',\n",
       " 'i have a charge on my bank account i need help identifying',\n",
       " 'cancel amazon music free trial',\n",
       " 'a charge not made by me',\n",
       " 'how do i add contacts to my alexa app for amazon?',\n",
       " 'how do i set parental controls on firestick for amazon?',\n",
       " 'a charge on my credit card by amazon that i do not recognize',\n",
       " 'how to delete credit card for amazon?',\n",
       " 'charges on my credit card from amazon that i did not make',\n",
       " 'what is amazon prime video pin?',\n",
       " 'i have an unauthorized charge on my card.',\n",
       " 'can i change the delivery time for my whole foods delivery order?',\n",
       " 'i would like a refund on my order it has never arrived and tracking says it lost',\n",
       " 'how do i add a family member to my audible account for amazon?']"
      ]
     },
     "execution_count": 22,
     "metadata": {},
     "output_type": "execute_result"
    }
   ],
   "source": [
    "testing_question[0:20]"
   ]
  },
  {
   "cell_type": "markdown",
   "metadata": {},
   "source": [
    "## Semantic Textual Similarity - Useless took too much time to train\n",
    "\n",
    "Once we have sentence embeddings computed, we want to compare them to each other. Below is how we can compute the cosine similarity between embeddings, for example, to measure the semantic similarity of two texts."
   ]
  },
  {
   "cell_type": "code",
   "execution_count": 135,
   "metadata": {},
   "outputs": [
    {
     "name": "stdout",
     "output_type": "stream",
     "text": [
      "CPU times: user 21.3 s, sys: 6.62 s, total: 27.9 s\n",
      "Wall time: 26.8 s\n"
     ]
    }
   ],
   "source": [
    "%%time\n",
    "# compute embedding for both list \n",
    "embeddings1 = model.encode(training_question, convert_to_tensor=True)\n",
    "embeddings2 = model.encode(testing_question, convert_to_tensor=True)"
   ]
  },
  {
   "cell_type": "code",
   "execution_count": 136,
   "metadata": {},
   "outputs": [
    {
     "name": "stdout",
     "output_type": "stream",
     "text": [
      "CPU times: user 883 ms, sys: 120 ms, total: 1 s\n",
      "Wall time: 503 ms\n"
     ]
    }
   ],
   "source": [
    "%%time\n",
    "# compute cosine similarity \n",
    "cosine_scores = util.pytorch_cos_sim(embeddings1, embeddings2)"
   ]
  },
  {
   "cell_type": "code",
   "execution_count": 139,
   "metadata": {},
   "outputs": [
    {
     "name": "stdout",
     "output_type": "stream",
     "text": [
      "definition of a compound \t\t Cancel digital order I didn’t order. \n",
      " Score: -0.0305\n",
      "What does safe mode on Kindle Fire mean for amazon? \t\t NEED TO KNOW THE STATUS OF RETURNED ITEM \n",
      " Score: 0.0490\n",
      "How do you cancel a gift card reload on Amazon? \t\t I received a gift off my registry and it was shattered when I opened the box. When I try to return or exchange, it says it isn't an option? \n",
      " Score: 0.4701\n",
      "who is the santa clara county supervisor for sunnyvale ca \t\t How do I get internet on Amazon Fire? \n",
      " Score: 0.0145\n",
      "caffeine effects on heart \t\t I received an email saying my account info has changed. What changed \n",
      " Score: 0.0362\n",
      "i never received my refund voucher \t\t Why was my most recent order canceled? \n",
      " Score: 0.2742\n",
      "Information about fraudulent charges using one of my companies credit cards \t\t Im trying to locate my package \n",
      " Score: 0.2439\n",
      "Hello I have someone sending me a gift and wanted to know about \t\t I never received the first order, thats why i ordered a replacement \n",
      " Score: 0.2506\n",
      "Does Amazon need my phone number? \t\t ASK ABOUT THE VISA CARD \n",
      " Score: 0.0411\n"
     ]
    }
   ],
   "source": [
    "#Output the pairs with their score\n",
    "for i in range(len(testing_question)):\n",
    "    print(\"{} \\t\\t {} \\n Score: {:.4f}\".format(testing_question[i], training_question[i], cosine_scores[i][i]))"
   ]
  },
  {
   "cell_type": "code",
   "execution_count": 77,
   "metadata": {},
   "outputs": [
    {
     "ename": "KeyboardInterrupt",
     "evalue": "",
     "output_type": "error",
     "traceback": [
      "\u001b[0;31m---------------------------------------------------------------------------\u001b[0m",
      "\u001b[0;31mKeyboardInterrupt\u001b[0m                         Traceback (most recent call last)",
      "\u001b[0;32m<timed exec>\u001b[0m in \u001b[0;36m<module>\u001b[0;34m\u001b[0m\n",
      "\u001b[0;32m~/anaconda3/envs/pytorch_p36/lib/python3.6/site-packages/torch/tensor.py\u001b[0m in \u001b[0;36mwrapped\u001b[0;34m(*args, **kwargs)\u001b[0m\n\u001b[1;32m     19\u001b[0m     \u001b[0massigned\u001b[0m \u001b[0;34m=\u001b[0m \u001b[0mfunctools\u001b[0m\u001b[0;34m.\u001b[0m\u001b[0mWRAPPER_ASSIGNMENTS\u001b[0m\u001b[0;34m\u001b[0m\u001b[0;34m\u001b[0m\u001b[0m\n\u001b[1;32m     20\u001b[0m \u001b[0;34m\u001b[0m\u001b[0m\n\u001b[0;32m---> 21\u001b[0;31m     \u001b[0;34m@\u001b[0m\u001b[0mfunctools\u001b[0m\u001b[0;34m.\u001b[0m\u001b[0mwraps\u001b[0m\u001b[0;34m(\u001b[0m\u001b[0mf\u001b[0m\u001b[0;34m,\u001b[0m \u001b[0massigned\u001b[0m\u001b[0;34m=\u001b[0m\u001b[0massigned\u001b[0m\u001b[0;34m)\u001b[0m\u001b[0;34m\u001b[0m\u001b[0;34m\u001b[0m\u001b[0m\n\u001b[0m\u001b[1;32m     22\u001b[0m     \u001b[0;32mdef\u001b[0m \u001b[0mwrapped\u001b[0m\u001b[0;34m(\u001b[0m\u001b[0;34m*\u001b[0m\u001b[0margs\u001b[0m\u001b[0;34m,\u001b[0m \u001b[0;34m**\u001b[0m\u001b[0mkwargs\u001b[0m\u001b[0;34m)\u001b[0m\u001b[0;34m:\u001b[0m\u001b[0;34m\u001b[0m\u001b[0;34m\u001b[0m\u001b[0m\n\u001b[1;32m     23\u001b[0m         \u001b[0;32mfrom\u001b[0m \u001b[0mtorch\u001b[0m\u001b[0;34m.\u001b[0m\u001b[0moverrides\u001b[0m \u001b[0;32mimport\u001b[0m \u001b[0mhas_torch_function\u001b[0m\u001b[0;34m,\u001b[0m \u001b[0mhandle_torch_function\u001b[0m\u001b[0;34m\u001b[0m\u001b[0;34m\u001b[0m\u001b[0m\n",
      "\u001b[0;31mKeyboardInterrupt\u001b[0m: "
     ]
    }
   ],
   "source": [
    "%%time\n",
    "# find the pairs with the highest cosine similarity scores \n",
    "# Single list of sentences\n",
    "# sentences = testing_question + training_question\n",
    "\n",
    "#Compute embeddings\n",
    "embeddings = model.encode(sentences, convert_to_tensor=True)\n",
    "\n",
    "#Compute cosine-similarities for each sentence with each other sentence\n",
    "cosine_scores = util.pytorch_cos_sim(embeddings, embeddings)\n",
    "\n",
    "#Find the pairs with the highest cosine similarity scores\n",
    "pairs = []\n",
    "for i in range(len(cosine_scores)-1):\n",
    "    for j in range(i+1, len(cosine_scores)):\n",
    "        pairs.append({'index': [i, j], 'score': cosine_scores[i][j]})\n",
    "\n",
    "#Sort scores in decreasing order\n",
    "pairs = sorted(pairs, key=lambda x: x['score'], reverse=True)\n",
    "\n",
    "for pair in pairs[0:10]:\n",
    "    i, j = pair['index']\n",
    "    print(\"{} \\t\\t {} \\t\\t Score: {:.4f}\".format(sentences[i], sentences[j], pair['score']))"
   ]
  },
  {
   "cell_type": "code",
   "execution_count": 146,
   "metadata": {},
   "outputs": [
    {
     "data": {
      "text/plain": [
       "tensor(0.0686)"
      ]
     },
     "execution_count": 146,
     "metadata": {},
     "output_type": "execute_result"
    }
   ],
   "source": [
    "cosine_scores[1][2]"
   ]
  },
  {
   "cell_type": "code",
   "execution_count": 12,
   "metadata": {},
   "outputs": [],
   "source": [
    "# provide sentences to the model and generate a list of numpy arrays with embeddings \n",
    "corpus_embeddings = model.encode(q_corpus)"
   ]
  },
  {
   "cell_type": "markdown",
   "metadata": {},
   "source": [
    "## Paraphrase Mining - Feed the full set of questions as input to the model\n",
    "paraphrase mining is the task of finding pharaphrases in a large corpus of sentences.\n",
    "The approach presented there used a brute-force approach to score and rank all pairs.\n",
    "In Semantic Textual Similarity we saw a simplified version of finding paraphrases in a list of sentences. The approach presented there used a brute-force approach to score and rank all pairs.\n",
    "The downside of STS is that it fails to scale to large (10,000 and more) collections of sentences.\n",
    "For larger collections, util offers the paraphrase_mining function that can be used to reduce computing time."
   ]
  },
  {
   "cell_type": "code",
   "execution_count": 25,
   "metadata": {},
   "outputs": [
    {
     "name": "stdout",
     "output_type": "stream",
     "text": [
      "CPU times: user 15.9 s, sys: 3.74 s, total: 19.7 s\n",
      "Wall time: 17.6 s\n"
     ]
    }
   ],
   "source": [
    "%%time\n",
    "# amazon related questions sentences similarity \n",
    "paraphrases = util.paraphrase_mining(model, sentences, corpus_chunk_size=len(sentences), top_k=1)\n",
    "data = []\n",
    "for paraphrase in paraphrases:\n",
    "    score, i, j = paraphrase\n",
    "    data.append({'anchor': sentences[i], 'related': sentences[j], 'score': score})\n",
    "#     print(\"{} \\t\\t {} \\t\\t Score: {:.4f}\".format(sentences[i], sentences[j], score))"
   ]
  },
  {
   "cell_type": "code",
   "execution_count": 29,
   "metadata": {},
   "outputs": [],
   "source": [
    "df_result = pd.DataFrame(data)\n",
    "# df_result_non_amazon = pd.DataFrame(data_non_amazon)"
   ]
  },
  {
   "cell_type": "code",
   "execution_count": 31,
   "metadata": {},
   "outputs": [
    {
     "name": "stdout",
     "output_type": "stream",
     "text": [
      "7567\n"
     ]
    }
   ],
   "source": [
    "print(len(df_result))"
   ]
  },
  {
   "cell_type": "code",
   "execution_count": 32,
   "metadata": {},
   "outputs": [
    {
     "data": {
      "text/html": [
       "<div>\n",
       "<style scoped>\n",
       "    .dataframe tbody tr th:only-of-type {\n",
       "        vertical-align: middle;\n",
       "    }\n",
       "\n",
       "    .dataframe tbody tr th {\n",
       "        vertical-align: top;\n",
       "    }\n",
       "\n",
       "    .dataframe thead th {\n",
       "        text-align: right;\n",
       "    }\n",
       "</style>\n",
       "<table border=\"1\" class=\"dataframe\">\n",
       "  <thead>\n",
       "    <tr style=\"text-align: right;\">\n",
       "      <th></th>\n",
       "      <th>anchor</th>\n",
       "      <th>related</th>\n",
       "      <th>score</th>\n",
       "    </tr>\n",
       "  </thead>\n",
       "  <tbody>\n",
       "    <tr>\n",
       "      <th>6781</th>\n",
       "      <td>i have been receiving packages that i have not...</td>\n",
       "      <td>hi, i received a package that i didn't order a...</td>\n",
       "      <td>0.699874</td>\n",
       "    </tr>\n",
       "    <tr>\n",
       "      <th>6782</th>\n",
       "      <td>trying to place an order. both items are eligi...</td>\n",
       "      <td>an order i want to place says there is a shipp...</td>\n",
       "      <td>0.699855</td>\n",
       "    </tr>\n",
       "    <tr>\n",
       "      <th>6783</th>\n",
       "      <td>can you have 2 amazon echos in different houses?</td>\n",
       "      <td>can you use 2 alexas in the same house for ama...</td>\n",
       "      <td>0.699790</td>\n",
       "    </tr>\n",
       "    <tr>\n",
       "      <th>6784</th>\n",
       "      <td>verifying refund amount</td>\n",
       "      <td>item refund amount</td>\n",
       "      <td>0.699732</td>\n",
       "    </tr>\n",
       "    <tr>\n",
       "      <th>6785</th>\n",
       "      <td>i would like to cancel showtime and cbs all ac...</td>\n",
       "      <td>i would like to cancel my showtime</td>\n",
       "      <td>0.699695</td>\n",
       "    </tr>\n",
       "    <tr>\n",
       "      <th>...</th>\n",
       "      <td>...</td>\n",
       "      <td>...</td>\n",
       "      <td>...</td>\n",
       "    </tr>\n",
       "    <tr>\n",
       "      <th>7535</th>\n",
       "      <td>unable to add a magazine bought elsewhere to m...</td>\n",
       "      <td>update address for magazine subscription</td>\n",
       "      <td>0.508280</td>\n",
       "    </tr>\n",
       "    <tr>\n",
       "      <th>7536</th>\n",
       "      <td>average deck replacement cost</td>\n",
       "      <td>an item replacement</td>\n",
       "      <td>0.507355</td>\n",
       "    </tr>\n",
       "    <tr>\n",
       "      <th>7537</th>\n",
       "      <td>please remove special offers from my kindle pa...</td>\n",
       "      <td>how do you highlight on kindle paperwhite for ...</td>\n",
       "      <td>0.504303</td>\n",
       "    </tr>\n",
       "    <tr>\n",
       "      <th>7538</th>\n",
       "      <td>i can’t access my account and they haven’t con...</td>\n",
       "      <td>hello i was just trying to cancel my business ...</td>\n",
       "      <td>0.501915</td>\n",
       "    </tr>\n",
       "    <tr>\n",
       "      <th>7539</th>\n",
       "      <td>ebt cardholders discount for prime members</td>\n",
       "      <td>refund on charged prime membership</td>\n",
       "      <td>0.500256</td>\n",
       "    </tr>\n",
       "  </tbody>\n",
       "</table>\n",
       "<p>759 rows × 3 columns</p>\n",
       "</div>"
      ],
      "text/plain": [
       "                                                 anchor  \\\n",
       "6781  i have been receiving packages that i have not...   \n",
       "6782  trying to place an order. both items are eligi...   \n",
       "6783   can you have 2 amazon echos in different houses?   \n",
       "6784                            verifying refund amount   \n",
       "6785  i would like to cancel showtime and cbs all ac...   \n",
       "...                                                 ...   \n",
       "7535  unable to add a magazine bought elsewhere to m...   \n",
       "7536                      average deck replacement cost   \n",
       "7537  please remove special offers from my kindle pa...   \n",
       "7538  i can’t access my account and they haven’t con...   \n",
       "7539         ebt cardholders discount for prime members   \n",
       "\n",
       "                                                related     score  \n",
       "6781  hi, i received a package that i didn't order a...  0.699874  \n",
       "6782  an order i want to place says there is a shipp...  0.699855  \n",
       "6783  can you use 2 alexas in the same house for ama...  0.699790  \n",
       "6784                                 item refund amount  0.699732  \n",
       "6785                 i would like to cancel my showtime  0.699695  \n",
       "...                                                 ...       ...  \n",
       "7535           update address for magazine subscription  0.508280  \n",
       "7536                                an item replacement  0.507355  \n",
       "7537  how do you highlight on kindle paperwhite for ...  0.504303  \n",
       "7538  hello i was just trying to cancel my business ...  0.501915  \n",
       "7539                 refund on charged prime membership  0.500256  \n",
       "\n",
       "[759 rows x 3 columns]"
      ]
     },
     "execution_count": 32,
     "metadata": {},
     "output_type": "execute_result"
    }
   ],
   "source": [
    "df_result.loc[(df_result.score < 0.7) & (df_result.score > 0.5)]"
   ]
  },
  {
   "cell_type": "code",
   "execution_count": 131,
   "metadata": {},
   "outputs": [],
   "source": [
    "# Since we train the model on the entire question pool, we need to create lables for identify \n",
    "# if anchor or related questions are in testing pool\n",
    "df_result['anchor_test'] = np.where(df_result['anchor'].isin(testing_question), 1, 0)\n",
    "df_result['related_test'] = np.where(df_result['related'].isin(testing_question), 1, 0)\n",
    "df_result['anchor_train'] = np.where(df_result['anchor'].isin(training_question), 1, 0)\n",
    "df_result['related_train'] = np.where(df_result['related'].isin(training_question), 1, 0)"
   ]
  },
  {
   "cell_type": "code",
   "execution_count": 221,
   "metadata": {},
   "outputs": [],
   "source": [
    "# non-amazon related\n",
    "df_result_non_amazon['anchor_test'] = np.where(df_result_non_amazon['anchor'].isin(testing_question_non_amazon), 1, 0)\n",
    "df_result_non_amazon['related_test'] = np.where(df_result_non_amazon['related'].isin(testing_question_non_amazon), 1, 0)\n",
    "df_result_non_amazon['anchor_train'] = np.where(df_result_non_amazon['anchor'].isin(training_question_non_amazon), 1, 0)\n",
    "df_result_non_amazon['related_train'] = np.where(df_result_non_amazon['related'].isin(training_question_non_amazon), 1, 0)"
   ]
  },
  {
   "cell_type": "code",
   "execution_count": 144,
   "metadata": {},
   "outputs": [],
   "source": [
    "df_result_related = df_result.loc[(df_result['anchor_test'] == 1) & (df_result['related_train'] == 1) | \n",
    "              (df_result['anchor_train'] == 1) & (df_result['related_test'] == 1) ]"
   ]
  },
  {
   "cell_type": "code",
   "execution_count": 182,
   "metadata": {},
   "outputs": [
    {
     "data": {
      "text/html": [
       "<div>\n",
       "<style scoped>\n",
       "    .dataframe tbody tr th:only-of-type {\n",
       "        vertical-align: middle;\n",
       "    }\n",
       "\n",
       "    .dataframe tbody tr th {\n",
       "        vertical-align: top;\n",
       "    }\n",
       "\n",
       "    .dataframe thead th {\n",
       "        text-align: right;\n",
       "    }\n",
       "</style>\n",
       "<table border=\"1\" class=\"dataframe\">\n",
       "  <thead>\n",
       "    <tr style=\"text-align: right;\">\n",
       "      <th></th>\n",
       "      <th>anchor</th>\n",
       "      <th>related</th>\n",
       "      <th>score</th>\n",
       "      <th>anchor_test</th>\n",
       "      <th>related_test</th>\n",
       "      <th>anchor_train</th>\n",
       "      <th>related_train</th>\n",
       "    </tr>\n",
       "  </thead>\n",
       "  <tbody>\n",
       "    <tr>\n",
       "      <th>4</th>\n",
       "      <td>i returned an item but have not received a refund</td>\n",
       "      <td>i returned an item but have not received refund</td>\n",
       "      <td>0.991529</td>\n",
       "      <td>0</td>\n",
       "      <td>1</td>\n",
       "      <td>1</td>\n",
       "      <td>0</td>\n",
       "    </tr>\n",
       "    <tr>\n",
       "      <th>5</th>\n",
       "      <td>how do i delete an idea list for amazon?</td>\n",
       "      <td>how do i delete an idea list on amazon?</td>\n",
       "      <td>0.991468</td>\n",
       "      <td>1</td>\n",
       "      <td>0</td>\n",
       "      <td>0</td>\n",
       "      <td>1</td>\n",
       "    </tr>\n",
       "    <tr>\n",
       "      <th>6</th>\n",
       "      <td>can shipping and billing address be different ...</td>\n",
       "      <td>can billing and shipping address be different ...</td>\n",
       "      <td>0.990848</td>\n",
       "      <td>0</td>\n",
       "      <td>1</td>\n",
       "      <td>1</td>\n",
       "      <td>0</td>\n",
       "    </tr>\n",
       "    <tr>\n",
       "      <th>9</th>\n",
       "      <td>how do you follow someone on amazon?</td>\n",
       "      <td>how do i follow someone on amazon?</td>\n",
       "      <td>0.990470</td>\n",
       "      <td>0</td>\n",
       "      <td>1</td>\n",
       "      <td>1</td>\n",
       "      <td>0</td>\n",
       "    </tr>\n",
       "    <tr>\n",
       "      <th>10</th>\n",
       "      <td>i returned an item but haven't received my refund</td>\n",
       "      <td>i returned an item and haven't received my refund</td>\n",
       "      <td>0.990435</td>\n",
       "      <td>0</td>\n",
       "      <td>1</td>\n",
       "      <td>1</td>\n",
       "      <td>0</td>\n",
       "    </tr>\n",
       "  </tbody>\n",
       "</table>\n",
       "</div>"
      ],
      "text/plain": [
       "                                               anchor  \\\n",
       "4   i returned an item but have not received a refund   \n",
       "5            how do i delete an idea list for amazon?   \n",
       "6   can shipping and billing address be different ...   \n",
       "9                how do you follow someone on amazon?   \n",
       "10  i returned an item but haven't received my refund   \n",
       "\n",
       "                                              related     score  anchor_test  \\\n",
       "4     i returned an item but have not received refund  0.991529            0   \n",
       "5             how do i delete an idea list on amazon?  0.991468            1   \n",
       "6   can billing and shipping address be different ...  0.990848            0   \n",
       "9                  how do i follow someone on amazon?  0.990470            0   \n",
       "10  i returned an item and haven't received my refund  0.990435            0   \n",
       "\n",
       "    related_test  anchor_train  related_train  \n",
       "4              1             1              0  \n",
       "5              0             0              1  \n",
       "6              1             1              0  \n",
       "9              1             1              0  \n",
       "10             1             1              0  "
      ]
     },
     "execution_count": 182,
     "metadata": {},
     "output_type": "execute_result"
    }
   ],
   "source": [
    "df_result_related.head(5)"
   ]
  },
  {
   "cell_type": "code",
   "execution_count": 195,
   "metadata": {},
   "outputs": [],
   "source": [
    "# condition 1: anchor is in test set with related question in training set \n",
    "# determine the threshold for cos-sim score \n",
    "test_1 = df_result.loc[(df_result['anchor_test'] == 1) & \n",
    "                       (df_result['related_train'] == 1) & \n",
    "                       (df_result['score'] > 0.53)]['anchor'].unique().tolist()\n",
    "\n",
    "# condition 2: anchor is in training set with relevant question in test set \n",
    "test_2 = df_result.loc[(df_result['anchor_train'] == 1) & \n",
    "                       (df_result['related_test'] == 1) &\n",
    "                       (df_result['score'] > 0.53)]['related'].unique().tolist()"
   ]
  },
  {
   "cell_type": "code",
   "execution_count": 223,
   "metadata": {},
   "outputs": [],
   "source": [
    "# condition 1: anchor is in test set with related question in training set for non-amazon question\n",
    "# determine the threshold for cos-sim score \n",
    "test_1_non_amazon = df_result_non_amazon.loc[(df_result_non_amazon['anchor_test'] == 1) & \n",
    "                       (df_result_non_amazon['related_train'] == 1) & \n",
    "                       (df_result_non_amazon['score'] > 0.53)]['anchor'].unique().tolist()\n",
    "\n",
    "# condition 2: anchor is in training set with relevant question in test set \n",
    "test_2_non_amazon = df_result_non_amazon.loc[(df_result_non_amazon['anchor_train'] == 1) & \n",
    "                       (df_result_non_amazon['related_test'] == 1) &\n",
    "                       (df_result_non_amazon['score'] > 0.53)]['related'].unique().tolist()"
   ]
  },
  {
   "cell_type": "code",
   "execution_count": 226,
   "metadata": {},
   "outputs": [
    {
     "data": {
      "text/html": [
       "<div>\n",
       "<style scoped>\n",
       "    .dataframe tbody tr th:only-of-type {\n",
       "        vertical-align: middle;\n",
       "    }\n",
       "\n",
       "    .dataframe tbody tr th {\n",
       "        vertical-align: top;\n",
       "    }\n",
       "\n",
       "    .dataframe thead th {\n",
       "        text-align: right;\n",
       "    }\n",
       "</style>\n",
       "<table border=\"1\" class=\"dataframe\">\n",
       "  <thead>\n",
       "    <tr style=\"text-align: right;\">\n",
       "      <th></th>\n",
       "      <th>anchor</th>\n",
       "      <th>related</th>\n",
       "      <th>score</th>\n",
       "      <th>anchor_test</th>\n",
       "      <th>related_test</th>\n",
       "      <th>anchor_train</th>\n",
       "      <th>related_train</th>\n",
       "    </tr>\n",
       "  </thead>\n",
       "  <tbody>\n",
       "    <tr>\n",
       "      <th>0</th>\n",
       "      <td>what is coarse crackles</td>\n",
       "      <td>what are coarse crackles</td>\n",
       "      <td>0.981338</td>\n",
       "      <td>0</td>\n",
       "      <td>0</td>\n",
       "      <td>1</td>\n",
       "      <td>1</td>\n",
       "    </tr>\n",
       "    <tr>\n",
       "      <th>1</th>\n",
       "      <td>what process divides a cell's cytoplasm</td>\n",
       "      <td>what process divides a cell cytoplasm</td>\n",
       "      <td>0.974407</td>\n",
       "      <td>1</td>\n",
       "      <td>0</td>\n",
       "      <td>0</td>\n",
       "      <td>1</td>\n",
       "    </tr>\n",
       "    <tr>\n",
       "      <th>2</th>\n",
       "      <td>how old is jace norman</td>\n",
       "      <td>how old is jace norman in</td>\n",
       "      <td>0.959834</td>\n",
       "      <td>1</td>\n",
       "      <td>0</td>\n",
       "      <td>0</td>\n",
       "      <td>1</td>\n",
       "    </tr>\n",
       "    <tr>\n",
       "      <th>3</th>\n",
       "      <td>can i get a number for customer service please</td>\n",
       "      <td>can i get a number to customer service</td>\n",
       "      <td>0.952537</td>\n",
       "      <td>0</td>\n",
       "      <td>0</td>\n",
       "      <td>1</td>\n",
       "      <td>1</td>\n",
       "    </tr>\n",
       "    <tr>\n",
       "      <th>4</th>\n",
       "      <td>what is involved in the socratic method?</td>\n",
       "      <td>what is the socratic method?</td>\n",
       "      <td>0.949446</td>\n",
       "      <td>0</td>\n",
       "      <td>1</td>\n",
       "      <td>1</td>\n",
       "      <td>0</td>\n",
       "    </tr>\n",
       "  </tbody>\n",
       "</table>\n",
       "</div>"
      ],
      "text/plain": [
       "                                           anchor  \\\n",
       "0                         what is coarse crackles   \n",
       "1         what process divides a cell's cytoplasm   \n",
       "2                          how old is jace norman   \n",
       "3  can i get a number for customer service please   \n",
       "4        what is involved in the socratic method?   \n",
       "\n",
       "                                  related     score  anchor_test  \\\n",
       "0                what are coarse crackles  0.981338            0   \n",
       "1   what process divides a cell cytoplasm  0.974407            1   \n",
       "2               how old is jace norman in  0.959834            1   \n",
       "3  can i get a number to customer service  0.952537            0   \n",
       "4            what is the socratic method?  0.949446            0   \n",
       "\n",
       "   related_test  anchor_train  related_train  \n",
       "0             0             1              1  \n",
       "1             0             0              1  \n",
       "2             0             0              1  \n",
       "3             0             1              1  \n",
       "4             1             1              0  "
      ]
     },
     "execution_count": 226,
     "metadata": {},
     "output_type": "execute_result"
    }
   ],
   "source": [
    "# for index 1 anchor question is in test set while related question is in training set\n",
    "df_result_non_amazon.head(5)"
   ]
  },
  {
   "cell_type": "code",
   "execution_count": 197,
   "metadata": {},
   "outputs": [],
   "source": [
    "# deduplicate the questions in two list \n",
    "test_final = list(set(test_1) | set(test_2))"
   ]
  },
  {
   "cell_type": "code",
   "execution_count": 224,
   "metadata": {},
   "outputs": [],
   "source": [
    "test_final_non_amazon = list(set(test_1_non_amazon) | set(test_2_non_amazon))"
   ]
  },
  {
   "cell_type": "code",
   "execution_count": 198,
   "metadata": {},
   "outputs": [
    {
     "data": {
      "text/plain": [
       "['can you get emails on amazon fire tablet?',\n",
       " 'does billing address show on package for amazon?',\n",
       " 'why am i being charged shipping for amazon?']"
      ]
     },
     "execution_count": 198,
     "metadata": {},
     "output_type": "execute_result"
    }
   ],
   "source": [
    "test_final[2:5]"
   ]
  },
  {
   "cell_type": "code",
   "execution_count": 229,
   "metadata": {},
   "outputs": [],
   "source": [
    "# combine with the rule-base approach to see if that performs better\n",
    "df_test['label'] = np.where((df_test['query_cln'].isin(test_final)) | \n",
    "                            (df_test['query_cln'].str.contains('|'.join(question_searchfor))) |\n",
    "                            (df_test['query_cln'].isin(test_final_non_amazon)), \n",
    "                            1,0)"
   ]
  },
  {
   "cell_type": "markdown",
   "metadata": {},
   "source": [
    "## Semantic Search - Query to Query Sentence Similarity \n",
    "Train on different corpus of questions "
   ]
  },
  {
   "cell_type": "code",
   "execution_count": 33,
   "metadata": {},
   "outputs": [],
   "source": [
    "import torch\n",
    "from transformers import BertTokenizer, BertModel, BertForMaskedLM\n",
    "from sentence_transformers import SentenceTransformer\n",
    "import scipy.spatial"
   ]
  },
  {
   "cell_type": "code",
   "execution_count": 35,
   "metadata": {},
   "outputs": [],
   "source": [
    "# There are many pre-trained models avaiable ready to use to generate embeddings \n",
    "pretrained_model = 'bert-large-nli-stsb-mean-tokens'\n",
    "# download pretrained model, pretrained models can be loaded by just passing the model name \n",
    "# model = SentenceTransformer('distilbert-base-nli-stsb-quora-ranking')\n",
    "embedder = SentenceTransformer('/home/ec2-user/SageMaker/hank/sbert.net_models_{0}'.format(pretrained_model))\n",
    "# model = SentenceTransformer('quora-distilbert-base')"
   ]
  },
  {
   "cell_type": "code",
   "execution_count": 45,
   "metadata": {},
   "outputs": [
    {
     "data": {
      "text/plain": [
       "['i never received my refund voucher',\n",
       " 'information about fraudulent charges using one of my companies credit cards',\n",
       " 'hello i have someone sending me a gift and wanted to know about',\n",
       " 'does amazon need my phone number?',\n",
       " 'what is amazon authentication?',\n",
       " 'i have a charge on my bank account i need help identifying',\n",
       " 'cancel amazon music free trial',\n",
       " 'a charge not made by me']"
      ]
     },
     "execution_count": 45,
     "metadata": {},
     "output_type": "execute_result"
    }
   ],
   "source": [
    "testing_question[2:10]"
   ]
  },
  {
   "cell_type": "code",
   "execution_count": 46,
   "metadata": {},
   "outputs": [
    {
     "name": "stdout",
     "output_type": "stream",
     "text": [
      "CPU times: user 1min 2s, sys: 19.5 s, total: 1min 22s\n",
      "Wall time: 1min 21s\n"
     ]
    }
   ],
   "source": [
    "%%time\n",
    "# generate questions embeddings \n",
    "corpus_embeddings = embedder.encode(training_question)\n",
    "query_embeddings = embedder.encode(testing_question)"
   ]
  },
  {
   "cell_type": "code",
   "execution_count": 47,
   "metadata": {},
   "outputs": [
    {
     "name": "stdout",
     "output_type": "stream",
     "text": [
      "(8057, 1024)\n",
      "(1364, 1024)\n"
     ]
    }
   ],
   "source": [
    "# ensure two vectors have the same dimensions \n",
    "print(corpus_embeddings.shape)\n",
    "print(query_embeddings.shape)"
   ]
  },
  {
   "cell_type": "code",
   "execution_count": 49,
   "metadata": {},
   "outputs": [
    {
     "name": "stdout",
     "output_type": "stream",
     "text": [
      "CPU times: user 48.4 s, sys: 27.8 s, total: 1min 16s\n",
      "Wall time: 1min 16s\n"
     ]
    }
   ],
   "source": [
    "%%time\n",
    "closest_n = 1\n",
    "data_semantic_search = []\n",
    "for query, query_embedding in zip(testing_question, query_embeddings):\n",
    "    distances = scipy.spatial.distance.cdist([query_embedding], corpus_embeddings, \"cosine\")[0]\n",
    "\n",
    "    results = zip(range(len(distances)), distances)\n",
    "    results = sorted(results, key=lambda x: x[1])\n",
    "\n",
    "#     print(\"\\n\\n======================\\n\\n\")\n",
    "#     print(\"Query:\", query)\n",
    "#     print(\"\\nTop 3 most similar sentences in corpus:\")\n",
    "    for idx, distance in results[0:closest_n]:\n",
    "        data_semantic_search.append({'anchor': query, 'related': training_question[idx], 'score': (1-distance)})\n",
    "#         print(training_question_sample[idx].strip(), \"(Score: %.4f)\" % (1-distance))"
   ]
  },
  {
   "cell_type": "code",
   "execution_count": 50,
   "metadata": {},
   "outputs": [],
   "source": [
    "df_ss = pd.DataFrame(data_semantic_search)"
   ]
  },
  {
   "cell_type": "code",
   "execution_count": 51,
   "metadata": {},
   "outputs": [
    {
     "name": "stdout",
     "output_type": "stream",
     "text": [
      "anchor     a package came to our address that we didn't o...\n",
      "related    an item i ordered was missing in the package w...\n",
      "Name: 23, dtype: object\n"
     ]
    },
    {
     "data": {
      "text/html": [
       "<div>\n",
       "<style scoped>\n",
       "    .dataframe tbody tr th:only-of-type {\n",
       "        vertical-align: middle;\n",
       "    }\n",
       "\n",
       "    .dataframe tbody tr th {\n",
       "        vertical-align: top;\n",
       "    }\n",
       "\n",
       "    .dataframe thead th {\n",
       "        text-align: right;\n",
       "    }\n",
       "</style>\n",
       "<table border=\"1\" class=\"dataframe\">\n",
       "  <thead>\n",
       "    <tr style=\"text-align: right;\">\n",
       "      <th></th>\n",
       "      <th>anchor</th>\n",
       "      <th>related</th>\n",
       "      <th>score</th>\n",
       "    </tr>\n",
       "  </thead>\n",
       "  <tbody>\n",
       "    <tr>\n",
       "      <th>21</th>\n",
       "      <td>i would like to know, if i send someone a gift...</td>\n",
       "      <td>i received an item i did not order it did not ...</td>\n",
       "      <td>0.701773</td>\n",
       "    </tr>\n",
       "    <tr>\n",
       "      <th>23</th>\n",
       "      <td>a package came to our address that we didn't o...</td>\n",
       "      <td>an item i ordered was missing in the package w...</td>\n",
       "      <td>0.732762</td>\n",
       "    </tr>\n",
       "    <tr>\n",
       "      <th>36</th>\n",
       "      <td>i've been charged twice for prime ,i didn't us...</td>\n",
       "      <td>i have been charged twice for prime this month...</td>\n",
       "      <td>0.796961</td>\n",
       "    </tr>\n",
       "    <tr>\n",
       "      <th>41</th>\n",
       "      <td>why isnt an item i purchased returnable?</td>\n",
       "      <td>why is the item i purchased is stating it’s no...</td>\n",
       "      <td>0.781884</td>\n",
       "    </tr>\n",
       "    <tr>\n",
       "      <th>47</th>\n",
       "      <td>a registry item that has not arrived</td>\n",
       "      <td>i returned an item but it isn’t showing returned</td>\n",
       "      <td>0.712490</td>\n",
       "    </tr>\n",
       "    <tr>\n",
       "      <th>...</th>\n",
       "      <td>...</td>\n",
       "      <td>...</td>\n",
       "      <td>...</td>\n",
       "    </tr>\n",
       "    <tr>\n",
       "      <th>1322</th>\n",
       "      <td>i have a question about an item i received and...</td>\n",
       "      <td>i'd like to return an item but it said i can't...</td>\n",
       "      <td>0.776725</td>\n",
       "    </tr>\n",
       "    <tr>\n",
       "      <th>1336</th>\n",
       "      <td>why hasn’t my package been shipped</td>\n",
       "      <td>my package was not delivered</td>\n",
       "      <td>0.781976</td>\n",
       "    </tr>\n",
       "    <tr>\n",
       "      <th>1343</th>\n",
       "      <td>trying to figure out why my prime membership i...</td>\n",
       "      <td>a charge on my credit card, $2• to find out wh...</td>\n",
       "      <td>0.733857</td>\n",
       "    </tr>\n",
       "    <tr>\n",
       "      <th>1361</th>\n",
       "      <td>unable to purchase items on my account. gettin...</td>\n",
       "      <td>charge on my credit card and i can't find it i...</td>\n",
       "      <td>0.766048</td>\n",
       "    </tr>\n",
       "    <tr>\n",
       "      <th>1363</th>\n",
       "      <td>i already returned an item and i received an e...</td>\n",
       "      <td>i already emailed the seller. when are they go...</td>\n",
       "      <td>0.788465</td>\n",
       "    </tr>\n",
       "  </tbody>\n",
       "</table>\n",
       "<p>183 rows × 3 columns</p>\n",
       "</div>"
      ],
      "text/plain": [
       "                                                 anchor  \\\n",
       "21    i would like to know, if i send someone a gift...   \n",
       "23    a package came to our address that we didn't o...   \n",
       "36    i've been charged twice for prime ,i didn't us...   \n",
       "41             why isnt an item i purchased returnable?   \n",
       "47                 a registry item that has not arrived   \n",
       "...                                                 ...   \n",
       "1322  i have a question about an item i received and...   \n",
       "1336                 why hasn’t my package been shipped   \n",
       "1343  trying to figure out why my prime membership i...   \n",
       "1361  unable to purchase items on my account. gettin...   \n",
       "1363  i already returned an item and i received an e...   \n",
       "\n",
       "                                                related     score  \n",
       "21    i received an item i did not order it did not ...  0.701773  \n",
       "23    an item i ordered was missing in the package w...  0.732762  \n",
       "36    i have been charged twice for prime this month...  0.796961  \n",
       "41    why is the item i purchased is stating it’s no...  0.781884  \n",
       "47     i returned an item but it isn’t showing returned  0.712490  \n",
       "...                                                 ...       ...  \n",
       "1322  i'd like to return an item but it said i can't...  0.776725  \n",
       "1336                       my package was not delivered  0.781976  \n",
       "1343  a charge on my credit card, $2• to find out wh...  0.733857  \n",
       "1361  charge on my credit card and i can't find it i...  0.766048  \n",
       "1363  i already emailed the seller. when are they go...  0.788465  \n",
       "\n",
       "[183 rows x 3 columns]"
      ]
     },
     "execution_count": 51,
     "metadata": {},
     "output_type": "execute_result"
    }
   ],
   "source": [
    "print(df_ss[['anchor', 'related']].iloc[23])\n",
    "df_ss[(df_ss.score > 0.7) & (df_ss.score < 0.8)]"
   ]
  },
  {
   "cell_type": "code",
   "execution_count": 157,
   "metadata": {},
   "outputs": [],
   "source": [
    "# result of amazon-related question to questions \n",
    "df_ss_a_list = df_ss[df_ss.score > 0.5]['anchor'].tolist()"
   ]
  },
  {
   "cell_type": "code",
   "execution_count": 52,
   "metadata": {},
   "outputs": [],
   "source": [
    "df_ss.to_csv('test_train_pair.csv', header=True, encoding='utf-8' , index=False)"
   ]
  },
  {
   "cell_type": "markdown",
   "metadata": {},
   "source": [
    "## Semantic Search - Query to Query for non-amazon question \n",
    "doesn't perform well"
   ]
  },
  {
   "cell_type": "code",
   "execution_count": 87,
   "metadata": {},
   "outputs": [],
   "source": [
    "# generate questions embedding\n",
    "corpus_embeddings_non_amazon = embedder.encode(training_question_non_amazon)\n",
    "query_embeddings_non_amazon = embedder.encode(testing_question_non_amazon)"
   ]
  },
  {
   "cell_type": "code",
   "execution_count": 89,
   "metadata": {},
   "outputs": [
    {
     "name": "stdout",
     "output_type": "stream",
     "text": [
      "(2943, 1024)\n",
      "(1115, 1024)\n"
     ]
    }
   ],
   "source": [
    "# ensure two vectors have the same dimensions \n",
    "print(corpus_embeddings_non_amazon.shape)\n",
    "print(query_embeddings_non_amazon.shape)"
   ]
  },
  {
   "cell_type": "code",
   "execution_count": 88,
   "metadata": {},
   "outputs": [
    {
     "name": "stdout",
     "output_type": "stream",
     "text": [
      "CPU times: user 15.9 s, sys: 0 ns, total: 15.9 s\n",
      "Wall time: 15.9 s\n"
     ]
    }
   ],
   "source": [
    "%%time\n",
    "closest_n = 1\n",
    "data_semantic_search_non_amazon = []\n",
    "for query, query_embedding in zip(testing_question_non_amazon, query_embeddings_non_amazon):\n",
    "    distances = scipy.spatial.distance.cdist([query_embedding], corpus_embeddings_non_amazon, \"cosine\")[0]\n",
    "\n",
    "    results = zip(range(len(distances)), distances)\n",
    "    results = sorted(results, key=lambda x: x[1])\n",
    "\n",
    "#     print(\"\\n\\n======================\\n\\n\")\n",
    "#     print(\"Query:\", query)\n",
    "#     print(\"\\nTop 3 most similar sentences in corpus:\")\n",
    "    for idx, distance in results[0:closest_n]:\n",
    "        data_semantic_search_non_amazon.append({'anchor': query, 'related': training_question_non_amazon[idx], 'score': (1-distance)})\n",
    "#         print(training_question_sample[idx].strip(), \"(Score: %.4f)\" % (1-distance))"
   ]
  },
  {
   "cell_type": "code",
   "execution_count": 93,
   "metadata": {},
   "outputs": [],
   "source": [
    "df_ss_non_amazon = pd.DataFrame(data_semantic_search_non_amazon)"
   ]
  },
  {
   "cell_type": "code",
   "execution_count": 94,
   "metadata": {},
   "outputs": [],
   "source": [
    "df_ss_non_amazon.to_csv('test_train_pair_non_amazon.csv', header=True, encoding='utf-8' , index=False)"
   ]
  },
  {
   "cell_type": "code",
   "execution_count": 149,
   "metadata": {},
   "outputs": [],
   "source": [
    "df_ss_non_a_list = df_ss_non_amazon[df_ss_non_amazon.score > 0.7]['anchor'].tolist()"
   ]
  },
  {
   "cell_type": "markdown",
   "metadata": {},
   "source": [
    "## Semantic Similarity: Question to Documents for non-Amazon questions (split)\n",
    "split out the original document pool into sentences/ paragraphs"
   ]
  },
  {
   "cell_type": "code",
   "execution_count": 68,
   "metadata": {},
   "outputs": [],
   "source": [
    "# Convert the corpus into a list of sentence\n",
    "newlist = [line for paragraph in doc_list for line in paragraph.split('.')]\n",
    "# drop duplicated sentence in doc pool \n",
    "newlist = list(set(newlist))"
   ]
  },
  {
   "cell_type": "code",
   "execution_count": 69,
   "metadata": {},
   "outputs": [
    {
     "data": {
      "text/plain": [
       "15472"
      ]
     },
     "execution_count": 69,
     "metadata": {},
     "output_type": "execute_result"
    }
   ],
   "source": [
    "# len(newlist): 61946\n",
    "len(newlist)"
   ]
  },
  {
   "cell_type": "code",
   "execution_count": 70,
   "metadata": {},
   "outputs": [
    {
     "name": "stdout",
     "output_type": "stream",
     "text": [
      "CPU times: user 2min 46s, sys: 57.3 s, total: 3min 43s\n",
      "Wall time: 3min 41s\n"
     ]
    }
   ],
   "source": [
    "%%time\n",
    "# 10min 19s\n",
    "document_embeddings = embedder.encode(newlist)"
   ]
  },
  {
   "cell_type": "code",
   "execution_count": 71,
   "metadata": {},
   "outputs": [
    {
     "data": {
      "text/plain": [
       "(15472, 1024)"
      ]
     },
     "execution_count": 71,
     "metadata": {},
     "output_type": "execute_result"
    }
   ],
   "source": [
    "document_embeddings.shape"
   ]
  },
  {
   "cell_type": "code",
   "execution_count": 72,
   "metadata": {},
   "outputs": [],
   "source": [
    "# encode non amazon question\n",
    "query_embeddings = embedder.encode(testing_question_non_amazon)"
   ]
  },
  {
   "cell_type": "code",
   "execution_count": 73,
   "metadata": {},
   "outputs": [
    {
     "data": {
      "text/plain": [
       "(1115, 1024)"
      ]
     },
     "execution_count": 73,
     "metadata": {},
     "output_type": "execute_result"
    }
   ],
   "source": [
    "query_embeddings.shape"
   ]
  },
  {
   "cell_type": "code",
   "execution_count": 76,
   "metadata": {},
   "outputs": [
    {
     "name": "stdout",
     "output_type": "stream",
     "text": [
      "CPU times: user 1min 14s, sys: 44.8 s, total: 1min 58s\n",
      "Wall time: 1min 58s\n"
     ]
    }
   ],
   "source": [
    "%%time\n",
    "# For each search term return 3 closest sentences: 6min 57s\n",
    "# For each query return 1 closest sentence: 5min 10s\n",
    "closest_n = 1\n",
    "data_doc_search_split = []\n",
    "for query, query_embedding in zip(testing_question_non_amazon, query_embeddings):\n",
    "    distances = scipy.spatial.distance.cdist([query_embedding], document_embeddings, \"cosine\")[0]\n",
    "\n",
    "    results = zip(range(len(distances)), distances)\n",
    "    results = sorted(results, key=lambda x: x[1])\n",
    "\n",
    "#     print(\"\\n\\n======================\\n\\n\")\n",
    "#     print(\"Query:\", query)\n",
    "#     print(\"\\nTop 5 most similar sentences in corpus:\")\n",
    "\n",
    "    for idx, distance in results[0:closest_n]:\n",
    "        data_doc_search_split.append({'anchor': query, 'related': newlist[idx], 'score': (1-distance)})\n",
    "#         print(newlist[idx].strip(), \"(Score: %.4f)\" % (1-distance))"
   ]
  },
  {
   "cell_type": "code",
   "execution_count": 77,
   "metadata": {},
   "outputs": [],
   "source": [
    "df_doc_corpus_split = pd.DataFrame(data_doc_search_split)"
   ]
  },
  {
   "cell_type": "code",
   "execution_count": 78,
   "metadata": {},
   "outputs": [],
   "source": [
    "df_doc_corpus_split.to_csv('test_doc_pair_split.csv', header=True, encoding='utf-8' , index=False)"
   ]
  },
  {
   "cell_type": "code",
   "execution_count": 160,
   "metadata": {},
   "outputs": [],
   "source": [
    "# result of amazon-related question to questions \n",
    "df_doc_corpus_split_list = df_doc_corpus_split[df_doc_corpus_split.score > 0.68]['anchor'].tolist()"
   ]
  },
  {
   "cell_type": "markdown",
   "metadata": {},
   "source": [
    "## Semantic Similarity: Question to Documents for non-Amazon questions (no split)\n",
    "seems not perform well"
   ]
  },
  {
   "cell_type": "code",
   "execution_count": 174,
   "metadata": {},
   "outputs": [],
   "source": [
    "# unique amazon-related document list\n",
    "doc_list = df_q_d.loc[ (df_q_d['amazon_related_doc'] == 1)]['document_cln'].unique().tolist()"
   ]
  },
  {
   "cell_type": "code",
   "execution_count": 175,
   "metadata": {},
   "outputs": [
    {
     "data": {
      "text/plain": [
       "2214"
      ]
     },
     "execution_count": 175,
     "metadata": {},
     "output_type": "execute_result"
    }
   ],
   "source": [
    "len(doc_list)"
   ]
  },
  {
   "cell_type": "code",
   "execution_count": 79,
   "metadata": {},
   "outputs": [],
   "source": [
    "# generate document emdeddings \n",
    "document_embeddings_non_split = embedder.encode(doc_list)"
   ]
  },
  {
   "cell_type": "code",
   "execution_count": 83,
   "metadata": {},
   "outputs": [
    {
     "name": "stdout",
     "output_type": "stream",
     "text": [
      "CPU times: user 9.61 s, sys: 0 ns, total: 9.61 s\n",
      "Wall time: 9.61 s\n"
     ]
    }
   ],
   "source": [
    "%%time\n",
    "# For each search term return 3 closest sentences: 6min 57s\n",
    "# For each query return 1 closest sentence: 5min 10s\n",
    "closest_n = 1\n",
    "data_doc_search = []\n",
    "for query, query_embedding in zip(testing_question_non_amazon, query_embeddings):\n",
    "    distances = scipy.spatial.distance.cdist([query_embedding], document_embeddings_non_split, \"cosine\")[0]\n",
    "\n",
    "    results = zip(range(len(distances)), distances)\n",
    "    results = sorted(results, key=lambda x: x[1])\n",
    "\n",
    "#     print(\"\\n\\n======================\\n\\n\")\n",
    "#     print(\"Query:\", query)\n",
    "#     print(\"\\nTop 5 most similar sentences in corpus:\")\n",
    "\n",
    "    for idx, distance in results[0:closest_n]:\n",
    "        data_doc_search.append({'anchor': query, 'related': doc_list[idx], 'score': (1-distance)})\n",
    "#         print(newlist[idx].strip(), \"(Score: %.4f)\" % (1-distance))"
   ]
  },
  {
   "cell_type": "code",
   "execution_count": 84,
   "metadata": {},
   "outputs": [],
   "source": [
    "df_doc_corpus = pd.DataFrame(data_doc_search)"
   ]
  },
  {
   "cell_type": "code",
   "execution_count": 85,
   "metadata": {},
   "outputs": [],
   "source": [
    "df_doc_corpus.to_csv('test_doc_pair.csv', header=True, encoding='utf-8' , index=False)"
   ]
  },
  {
   "cell_type": "code",
   "execution_count": 86,
   "metadata": {},
   "outputs": [
    {
     "data": {
      "text/plain": [
       "label  amazon_related\n",
       "0      0                 10039\n",
       "       1                 21075\n",
       "1      0                  3095\n",
       "       1                  8797\n",
       "dtype: int64"
      ]
     },
     "execution_count": 86,
     "metadata": {},
     "output_type": "execute_result"
    }
   ],
   "source": [
    "df_q_d.groupby(by=['label', 'amazon_related']).size()"
   ]
  },
  {
   "cell_type": "code",
   "execution_count": 409,
   "metadata": {},
   "outputs": [
    {
     "data": {
      "text/html": [
       "<div>\n",
       "<style scoped>\n",
       "    .dataframe tbody tr th:only-of-type {\n",
       "        vertical-align: middle;\n",
       "    }\n",
       "\n",
       "    .dataframe tbody tr th {\n",
       "        vertical-align: top;\n",
       "    }\n",
       "\n",
       "    .dataframe thead th {\n",
       "        text-align: right;\n",
       "    }\n",
       "</style>\n",
       "<table border=\"1\" class=\"dataframe\">\n",
       "  <thead>\n",
       "    <tr style=\"text-align: right;\">\n",
       "      <th></th>\n",
       "      <th>anchor</th>\n",
       "      <th>related</th>\n",
       "      <th>score</th>\n",
       "    </tr>\n",
       "  </thead>\n",
       "  <tbody>\n",
       "    <tr>\n",
       "      <th>1</th>\n",
       "      <td>who is the santa clara county supervisor for s...</td>\n",
       "      <td>santa clara county assessor's office 70 west h...</td>\n",
       "      <td>0.655050</td>\n",
       "    </tr>\n",
       "    <tr>\n",
       "      <th>5</th>\n",
       "      <td>restore nashua hours</td>\n",
       "      <td>hours of operation</td>\n",
       "      <td>0.672343</td>\n",
       "    </tr>\n",
       "    <tr>\n",
       "      <th>14</th>\n",
       "      <td>what is yt</td>\n",
       "      <td>y</td>\n",
       "      <td>0.691140</td>\n",
       "    </tr>\n",
       "    <tr>\n",
       "      <th>19</th>\n",
       "      <td>who sings whistle while you work in snow white</td>\n",
       "      <td>whistle while you work</td>\n",
       "      <td>0.658751</td>\n",
       "    </tr>\n",
       "    <tr>\n",
       "      <th>22</th>\n",
       "      <td>what is deductible on metlife dental</td>\n",
       "      <td>cost of dental crown</td>\n",
       "      <td>0.685674</td>\n",
       "    </tr>\n",
       "    <tr>\n",
       "      <th>...</th>\n",
       "      <td>...</td>\n",
       "      <td>...</td>\n",
       "      <td>...</td>\n",
       "    </tr>\n",
       "    <tr>\n",
       "      <th>953</th>\n",
       "      <td>how can organizations manage diversity effecti...</td>\n",
       "      <td>managing diversity and inclusion in organizati...</td>\n",
       "      <td>0.688632</td>\n",
       "    </tr>\n",
       "    <tr>\n",
       "      <th>957</th>\n",
       "      <td>how do i clear browsing data on my fire tablet?</td>\n",
       "      <td>clear app cache and data on your fire tablet (...</td>\n",
       "      <td>0.698319</td>\n",
       "    </tr>\n",
       "    <tr>\n",
       "      <th>963</th>\n",
       "      <td>what is the zip code for altamonte springs fl</td>\n",
       "      <td>palm coast is located in flagler county, fl</td>\n",
       "      <td>0.677251</td>\n",
       "    </tr>\n",
       "    <tr>\n",
       "      <th>966</th>\n",
       "      <td>define compound complex sentences</td>\n",
       "      <td>suffix, or to other root words to make a comp...</td>\n",
       "      <td>0.664969</td>\n",
       "    </tr>\n",
       "    <tr>\n",
       "      <th>981</th>\n",
       "      <td>is there an airport in pigeon forge tn</td>\n",
       "      <td>the closest major airport to pigeon forge, ten...</td>\n",
       "      <td>0.689964</td>\n",
       "    </tr>\n",
       "  </tbody>\n",
       "</table>\n",
       "<p>168 rows × 3 columns</p>\n",
       "</div>"
      ],
      "text/plain": [
       "                                                anchor  \\\n",
       "1    who is the santa clara county supervisor for s...   \n",
       "5                                 restore nashua hours   \n",
       "14                                          what is yt   \n",
       "19      who sings whistle while you work in snow white   \n",
       "22                what is deductible on metlife dental   \n",
       "..                                                 ...   \n",
       "953  how can organizations manage diversity effecti...   \n",
       "957    how do i clear browsing data on my fire tablet?   \n",
       "963      what is the zip code for altamonte springs fl   \n",
       "966                  define compound complex sentences   \n",
       "981             is there an airport in pigeon forge tn   \n",
       "\n",
       "                                               related     score  \n",
       "1    santa clara county assessor's office 70 west h...  0.655050  \n",
       "5                                   hours of operation  0.672343  \n",
       "14                                                   y  0.691140  \n",
       "19                              whistle while you work  0.658751  \n",
       "22                                cost of dental crown  0.685674  \n",
       "..                                                 ...       ...  \n",
       "953  managing diversity and inclusion in organizati...  0.688632  \n",
       "957  clear app cache and data on your fire tablet (...  0.698319  \n",
       "963        palm coast is located in flagler county, fl  0.677251  \n",
       "966   suffix, or to other root words to make a comp...  0.664969  \n",
       "981  the closest major airport to pigeon forge, ten...  0.689964  \n",
       "\n",
       "[168 rows x 3 columns]"
      ]
     },
     "execution_count": 409,
     "metadata": {},
     "output_type": "execute_result"
    }
   ],
   "source": [
    "df_doc_corpus[(df_doc_corpus.score < 0.7) & (df_doc_corpus.score > 0.65) ]"
   ]
  },
  {
   "cell_type": "code",
   "execution_count": 128,
   "metadata": {},
   "outputs": [],
   "source": [
    "# determine the threshold for this setting \n",
    "df_doc_corpus_list = df_doc_corpus[df_doc_corpus.score > 0.7]['anchor'].tolist()"
   ]
  },
  {
   "cell_type": "code",
   "execution_count": 533,
   "metadata": {},
   "outputs": [],
   "source": [
    "df_doc_corpus.to_csv('test_doc_pair_non_amazon.csv', header=True, encoding='utf-8' , index=False)"
   ]
  },
  {
   "cell_type": "markdown",
   "metadata": {},
   "source": [
    "### Best Combination of Different Approaches"
   ]
  },
  {
   "cell_type": "code",
   "execution_count": 161,
   "metadata": {},
   "outputs": [],
   "source": [
    "# the best combination so far \n",
    "df_test['label'] = np.where((df_test['query_cln'].isin(df_ss_a_list)) | # query to query for amazon questions \n",
    "                            (df_test['query_cln'].str.contains('|'.join(question_searchfor))) | # rule-base\n",
    "                            (df_test['query_cln'].isin(df_ss_non_a_list)) | # query to query for non amazon questions\n",
    "                            (df_test['query_cln'].isin(df_doc_corpus_split_list)) # non amazon question with doc pool (split) \n",
    "                            ,1,0)\n"
   ]
  },
  {
   "cell_type": "code",
   "execution_count": 162,
   "metadata": {},
   "outputs": [
    {
     "data": {
      "text/plain": [
       "label\n",
       "0     757\n",
       "1    1722\n",
       "dtype: int64"
      ]
     },
     "execution_count": 162,
     "metadata": {},
     "output_type": "execute_result"
    }
   ],
   "source": [
    "# check how many of them\n",
    "df_test.groupby(by='label').size()"
   ]
  },
  {
   "cell_type": "code",
   "execution_count": 163,
   "metadata": {},
   "outputs": [],
   "source": [
    "# write to a text file \n",
    "df_test.to_csv(\"submission14.txt\", columns= ['ID', 'label'], header=True, index=None, sep=',', mode='w')"
   ]
  },
  {
   "cell_type": "code",
   "execution_count": 493,
   "metadata": {},
   "outputs": [
    {
     "data": {
      "text/plain": [
       "'what gas does a battery give off'"
      ]
     },
     "execution_count": 493,
     "metadata": {},
     "output_type": "execute_result"
    }
   ],
   "source": [
    "df_doc_corpus_p['anchor'][index_num]"
   ]
  },
  {
   "cell_type": "code",
   "execution_count": 494,
   "metadata": {},
   "outputs": [],
   "source": [
    "df_doc_corpus_p_list = df_doc_corpus_p[df_doc_corpus_p.score > 0.6]['anchor'].tolist()"
   ]
  },
  {
   "cell_type": "code",
   "execution_count": 518,
   "metadata": {},
   "outputs": [],
   "source": [
    "df_test['label'] = np.where((df_test['query_cln'].isin(df_ss_a_list)) | # amazon questions\n",
    "                            (df_test['query_cln'].str.contains('|'.join(question_searchfor))) | # rule-base\n",
    "                            # (df_test['query_cln'].isin(test_final_non_amazon)) | # non amazon question\n",
    "                            (df_test['query_cln'].isin(df_doc_corpus_p_list)), # non amazon question with doc pool \n",
    "                            1,0)"
   ]
  },
  {
   "cell_type": "code",
   "execution_count": 519,
   "metadata": {},
   "outputs": [
    {
     "data": {
      "text/plain": [
       "label\n",
       "0     771\n",
       "1    1708\n",
       "dtype: int64"
      ]
     },
     "execution_count": 519,
     "metadata": {},
     "output_type": "execute_result"
    }
   ],
   "source": [
    "df_test.groupby(by='label').size()"
   ]
  },
  {
   "cell_type": "code",
   "execution_count": 498,
   "metadata": {},
   "outputs": [],
   "source": [
    "# write to a text file \n",
    "df_test.to_csv(\"submission6.txt\", columns= ['ID', 'label'], header=True, index=None, sep=',', mode='w')"
   ]
  },
  {
   "cell_type": "markdown",
   "metadata": {},
   "source": [
    "## Semantic Similarity for Question to Documents for Amazon-related questions: QtoD --> Useless"
   ]
  },
  {
   "cell_type": "code",
   "execution_count": 445,
   "metadata": {},
   "outputs": [],
   "source": [
    "amazon_test = df_test[df_test.amazon_related == 1]['query_cln'].unique().tolist()\n",
    "query_embeddings = embedder.encode(amazon_test)"
   ]
  },
  {
   "cell_type": "code",
   "execution_count": 443,
   "metadata": {},
   "outputs": [
    {
     "data": {
      "text/plain": [
       "(996, 1024)"
      ]
     },
     "execution_count": 443,
     "metadata": {},
     "output_type": "execute_result"
    }
   ],
   "source": [
    "query_embeddings.shape"
   ]
  },
  {
   "cell_type": "code",
   "execution_count": 444,
   "metadata": {},
   "outputs": [
    {
     "data": {
      "text/plain": [
       "amazon_related\n",
       "0     991\n",
       "1    1488\n",
       "dtype: int64"
      ]
     },
     "execution_count": 444,
     "metadata": {},
     "output_type": "execute_result"
    }
   ],
   "source": [
    "df_test.groupby(by='amazon_related').size()"
   ]
  },
  {
   "cell_type": "code",
   "execution_count": 442,
   "metadata": {},
   "outputs": [],
   "source": [
    "# train on the whole doc pool as opposed to paragraph\n",
    "document_embeddings = embedder.encode(doc_list)"
   ]
  },
  {
   "cell_type": "code",
   "execution_count": 447,
   "metadata": {},
   "outputs": [
    {
     "name": "stdout",
     "output_type": "stream",
     "text": [
      "CPU times: user 1min 6s, sys: 35.9 s, total: 1min 42s\n",
      "Wall time: 1min 42s\n"
     ]
    }
   ],
   "source": [
    "%%time\n",
    "# For each search term return 3 closest sentences: 6min 57s\n",
    "# For each query return 1 closest sentence: 5min 10s\n",
    "# need to replace amazon_test, doc_list, document_embeddings\n",
    "closest_n = 1\n",
    "data_doc_search_a = []\n",
    "for query, query_embedding in zip(amazon_test, query_embeddings):\n",
    "    distances = scipy.spatial.distance.cdist([query_embedding], document_embeddings, \"cosine\")[0]\n",
    "\n",
    "    results = zip(range(len(distances)), distances)\n",
    "    results = sorted(results, key=lambda x: x[1])\n",
    "\n",
    "#     print(\"\\n\\n======================\\n\\n\")\n",
    "#     print(\"Query:\", query)\n",
    "#     print(\"\\nTop 5 most similar sentences in corpus:\")\n",
    "\n",
    "    for idx, distance in results[0:closest_n]:\n",
    "        data_doc_search_a.append({'anchor': query, 'related': doc_list[idx], 'score': (1-distance)})\n",
    "#         print(newlist[idx].strip(), \"(Score: %.4f)\" % (1-distance))"
   ]
  },
  {
   "cell_type": "code",
   "execution_count": 448,
   "metadata": {},
   "outputs": [],
   "source": [
    "df_doc_corpus_a = pd.DataFrame(data_doc_search_a)"
   ]
  },
  {
   "cell_type": "code",
   "execution_count": 513,
   "metadata": {},
   "outputs": [],
   "source": [
    "df_doc_corpus_list_a = df_doc_corpus_a[df_doc_corpus_a.score > 0.7]['anchor'].tolist()"
   ]
  },
  {
   "cell_type": "code",
   "execution_count": 145,
   "metadata": {},
   "outputs": [],
   "source": [
    "df_test['label'] = np.where((df_test['query_cln'].isin(df_ss_a_list)) | # amazon questions\n",
    "                            (df_test['query_cln'].str.contains('|'.join(question_searchfor))) | # rule-base\n",
    "                             # (df_test['query_cln'].isin(df_doc_corpus_list_a)) | # amazon question with doc pool\n",
    "                             #(df_test['query_cln'].isin(test_final_non_amazon)) | # non amazon question\n",
    "                            (df_test['query_cln'].isin(df_doc_corpus_list)), # non amazon question with doc pool \n",
    "                            1,0)"
   ]
  },
  {
   "cell_type": "code",
   "execution_count": 146,
   "metadata": {},
   "outputs": [
    {
     "data": {
      "text/plain": [
       "label\n",
       "0    1111\n",
       "1    1368\n",
       "dtype: int64"
      ]
     },
     "execution_count": 146,
     "metadata": {},
     "output_type": "execute_result"
    }
   ],
   "source": [
    "df_test.groupby(by='label').size()"
   ]
  },
  {
   "cell_type": "code",
   "execution_count": 449,
   "metadata": {},
   "outputs": [
    {
     "data": {
      "text/html": [
       "<div>\n",
       "<style scoped>\n",
       "    .dataframe tbody tr th:only-of-type {\n",
       "        vertical-align: middle;\n",
       "    }\n",
       "\n",
       "    .dataframe tbody tr th {\n",
       "        vertical-align: top;\n",
       "    }\n",
       "\n",
       "    .dataframe thead th {\n",
       "        text-align: right;\n",
       "    }\n",
       "</style>\n",
       "<table border=\"1\" class=\"dataframe\">\n",
       "  <thead>\n",
       "    <tr style=\"text-align: right;\">\n",
       "      <th></th>\n",
       "      <th>anchor</th>\n",
       "      <th>related</th>\n",
       "      <th>score</th>\n",
       "    </tr>\n",
       "  </thead>\n",
       "  <tbody>\n",
       "    <tr>\n",
       "      <th>0</th>\n",
       "      <td>what does safe mode on kindle fire mean for am...</td>\n",
       "      <td>internet explorer:  internet options&gt; privacy....</td>\n",
       "      <td>0.611626</td>\n",
       "    </tr>\n",
       "    <tr>\n",
       "      <th>2</th>\n",
       "      <td>i never received my refund voucher</td>\n",
       "      <td>best answer: no need to do anything. your addr...</td>\n",
       "      <td>0.569475</td>\n",
       "    </tr>\n",
       "    <tr>\n",
       "      <th>3</th>\n",
       "      <td>information about fraudulent charges using one...</td>\n",
       "      <td>fees. in some cases, when you choose to use a ...</td>\n",
       "      <td>0.560540</td>\n",
       "    </tr>\n",
       "    <tr>\n",
       "      <th>4</th>\n",
       "      <td>hello i have someone sending me a gift and wan...</td>\n",
       "      <td>the option is given so that the product is gif...</td>\n",
       "      <td>0.738076</td>\n",
       "    </tr>\n",
       "    <tr>\n",
       "      <th>5</th>\n",
       "      <td>does amazon need my phone number?</td>\n",
       "      <td>contact amazon customer service with order num...</td>\n",
       "      <td>0.604873</td>\n",
       "    </tr>\n",
       "    <tr>\n",
       "      <th>...</th>\n",
       "      <td>...</td>\n",
       "      <td>...</td>\n",
       "      <td>...</td>\n",
       "    </tr>\n",
       "    <tr>\n",
       "      <th>1481</th>\n",
       "      <td>how do i change my phone number on amazon acco...</td>\n",
       "      <td>password assistance  enter the email address o...</td>\n",
       "      <td>0.687054</td>\n",
       "    </tr>\n",
       "    <tr>\n",
       "      <th>1482</th>\n",
       "      <td>is twitch streaming profitable for amazon?</td>\n",
       "      <td>on august 25, 2014, amazon acquired twitch int...</td>\n",
       "      <td>0.598512</td>\n",
       "    </tr>\n",
       "    <tr>\n",
       "      <th>1483</th>\n",
       "      <td>i received an item that i didn’t not order, an...</td>\n",
       "      <td>exchange an item: you can exchange items that ...</td>\n",
       "      <td>0.622789</td>\n",
       "    </tr>\n",
       "    <tr>\n",
       "      <th>1484</th>\n",
       "      <td>unable to purchase items on my account. gettin...</td>\n",
       "      <td>recently, i had a terrible experience regardin...</td>\n",
       "      <td>0.575794</td>\n",
       "    </tr>\n",
       "    <tr>\n",
       "      <th>1485</th>\n",
       "      <td>all the items that need payment revision</td>\n",
       "      <td>change your order information  update the bill...</td>\n",
       "      <td>0.635016</td>\n",
       "    </tr>\n",
       "  </tbody>\n",
       "</table>\n",
       "<p>1221 rows × 3 columns</p>\n",
       "</div>"
      ],
      "text/plain": [
       "                                                 anchor  \\\n",
       "0     what does safe mode on kindle fire mean for am...   \n",
       "2                    i never received my refund voucher   \n",
       "3     information about fraudulent charges using one...   \n",
       "4     hello i have someone sending me a gift and wan...   \n",
       "5                     does amazon need my phone number?   \n",
       "...                                                 ...   \n",
       "1481  how do i change my phone number on amazon acco...   \n",
       "1482         is twitch streaming profitable for amazon?   \n",
       "1483  i received an item that i didn’t not order, an...   \n",
       "1484  unable to purchase items on my account. gettin...   \n",
       "1485           all the items that need payment revision   \n",
       "\n",
       "                                                related     score  \n",
       "0     internet explorer:  internet options> privacy....  0.611626  \n",
       "2     best answer: no need to do anything. your addr...  0.569475  \n",
       "3     fees. in some cases, when you choose to use a ...  0.560540  \n",
       "4     the option is given so that the product is gif...  0.738076  \n",
       "5     contact amazon customer service with order num...  0.604873  \n",
       "...                                                 ...       ...  \n",
       "1481  password assistance  enter the email address o...  0.687054  \n",
       "1482  on august 25, 2014, amazon acquired twitch int...  0.598512  \n",
       "1483  exchange an item: you can exchange items that ...  0.622789  \n",
       "1484  recently, i had a terrible experience regardin...  0.575794  \n",
       "1485  change your order information  update the bill...  0.635016  \n",
       "\n",
       "[1221 rows x 3 columns]"
      ]
     },
     "execution_count": 449,
     "metadata": {},
     "output_type": "execute_result"
    }
   ],
   "source": [
    "df_doc_corpus_a[(df_doc_corpus_a.score < 0.75) & (df_doc_corpus_a.score > 0.50)]"
   ]
  },
  {
   "cell_type": "code",
   "execution_count": 459,
   "metadata": {},
   "outputs": [
    {
     "data": {
      "text/plain": [
       "'contact amazon customer service with order number or tracking id. '"
      ]
     },
     "execution_count": 459,
     "metadata": {},
     "output_type": "execute_result"
    }
   ],
   "source": [
    "df_doc_corpus_a['related'][5]"
   ]
  },
  {
   "cell_type": "code",
   "execution_count": 456,
   "metadata": {},
   "outputs": [
    {
     "data": {
      "text/plain": [
       "'on august 25, 2014, amazon acquired twitch interactive for us$970 million. sources reported that the rumoured google deal had fallen through and allowed amazon to make the bid, with forbes reporting that google had backed out of the deal due to potential antitrust concerns surrounding it and its existing ownership of youtube. the acquisition closed on september 25, 2014. take-two interactive, which owned a 2% stake at the time of the acquisition, made a windfall of $22 million.  under amazon, shear continued as chief executive officer of twitch interactive, with sara clemens added to the executive team as chief operating officer in january 2018. shear touted the amazon web services platform as an \"attractive\" aspect of the deal, and that amazon had \"built relationships with the big players in media\", which could be used to the service\\'s advantage—particularly in the realm of content licensing. the purchase of twitch marked the third recent video gaming–oriented acquisition by amazon, which had previously acquired the developers reflexive entertainment and double helix games.'"
      ]
     },
     "execution_count": 456,
     "metadata": {},
     "output_type": "execute_result"
    }
   ],
   "source": [
    "df_doc_corpus_a['related'][1482]"
   ]
  },
  {
   "cell_type": "code",
   "execution_count": 458,
   "metadata": {},
   "outputs": [
    {
     "data": {
      "text/html": [
       "<div>\n",
       "<style scoped>\n",
       "    .dataframe tbody tr th:only-of-type {\n",
       "        vertical-align: middle;\n",
       "    }\n",
       "\n",
       "    .dataframe tbody tr th {\n",
       "        vertical-align: top;\n",
       "    }\n",
       "\n",
       "    .dataframe thead th {\n",
       "        text-align: right;\n",
       "    }\n",
       "</style>\n",
       "<table border=\"1\" class=\"dataframe\">\n",
       "  <thead>\n",
       "    <tr style=\"text-align: right;\">\n",
       "      <th></th>\n",
       "      <th>query</th>\n",
       "      <th>document</th>\n",
       "      <th>label</th>\n",
       "      <th>query_cln</th>\n",
       "      <th>document_cln</th>\n",
       "      <th>query_len</th>\n",
       "      <th>document_len</th>\n",
       "      <th>query_word_count</th>\n",
       "      <th>document_word_count</th>\n",
       "      <th>amazon_related</th>\n",
       "    </tr>\n",
       "  </thead>\n",
       "  <tbody>\n",
       "    <tr>\n",
       "      <th>2222</th>\n",
       "      <td>How do you get prime fortnite skins on twitch ...</td>\n",
       "      <td>Fortnite Battle Royale—one of the world’s most...</td>\n",
       "      <td>1</td>\n",
       "      <td>how do you get prime fortnite skins on twitch ...</td>\n",
       "      <td>fortnite battle royale—one of the world’s most...</td>\n",
       "      <td>57</td>\n",
       "      <td>1494</td>\n",
       "      <td>11</td>\n",
       "      <td>232</td>\n",
       "      <td>1</td>\n",
       "    </tr>\n",
       "    <tr>\n",
       "      <th>3834</th>\n",
       "      <td>How much money does twitch make for Amazon?</td>\n",
       "      <td>Integrated Advertisements\\n\\nCommon among vid...</td>\n",
       "      <td>1</td>\n",
       "      <td>how much money does twitch make for amazon?</td>\n",
       "      <td>integrated advertisements  common among video...</td>\n",
       "      <td>43</td>\n",
       "      <td>1647</td>\n",
       "      <td>8</td>\n",
       "      <td>258</td>\n",
       "      <td>1</td>\n",
       "    </tr>\n",
       "    <tr>\n",
       "      <th>9252</th>\n",
       "      <td>How do I claim my prime loot on twitch for ama...</td>\n",
       "      <td>How do I get my content?\\n1. Click 'Claim Now'...</td>\n",
       "      <td>1</td>\n",
       "      <td>how do i claim my prime loot on twitch for ama...</td>\n",
       "      <td>how do i get my content? 1. click 'claim now' ...</td>\n",
       "      <td>50</td>\n",
       "      <td>853</td>\n",
       "      <td>11</td>\n",
       "      <td>153</td>\n",
       "      <td>1</td>\n",
       "    </tr>\n",
       "    <tr>\n",
       "      <th>10928</th>\n",
       "      <td>Do twitch Prime subs give money for amazon?</td>\n",
       "      <td>f you are not an Amazon Prime subscriber yet, ...</td>\n",
       "      <td>1</td>\n",
       "      <td>do twitch prime subs give money for amazon?</td>\n",
       "      <td>f you are not an amazon prime subscriber yet, ...</td>\n",
       "      <td>43</td>\n",
       "      <td>1025</td>\n",
       "      <td>8</td>\n",
       "      <td>176</td>\n",
       "      <td>1</td>\n",
       "    </tr>\n",
       "    <tr>\n",
       "      <th>18302</th>\n",
       "      <td>How much is Amazon Prime twitch?</td>\n",
       "      <td>Twitch Prime is the newest enhancement for Ama...</td>\n",
       "      <td>1</td>\n",
       "      <td>how much is amazon prime twitch?</td>\n",
       "      <td>twitch prime is the newest enhancement for ama...</td>\n",
       "      <td>32</td>\n",
       "      <td>791</td>\n",
       "      <td>6</td>\n",
       "      <td>108</td>\n",
       "      <td>1</td>\n",
       "    </tr>\n",
       "    <tr>\n",
       "      <th>26139</th>\n",
       "      <td>Is twitch owned by Microsoft for amazon?</td>\n",
       "      <td>On August 25, 2014, Amazon acquired Twitch Int...</td>\n",
       "      <td>1</td>\n",
       "      <td>is twitch owned by microsoft for amazon?</td>\n",
       "      <td>on august 25, 2014, amazon acquired twitch int...</td>\n",
       "      <td>40</td>\n",
       "      <td>1091</td>\n",
       "      <td>7</td>\n",
       "      <td>169</td>\n",
       "      <td>1</td>\n",
       "    </tr>\n",
       "    <tr>\n",
       "      <th>40246</th>\n",
       "      <td>How much money did twitch make in 2018 for ama...</td>\n",
       "      <td>It brought in about $230 million in ad revenue...</td>\n",
       "      <td>1</td>\n",
       "      <td>how much money did twitch make in 2018 for ama...</td>\n",
       "      <td>it brought in about $230 million in ad revenue...</td>\n",
       "      <td>50</td>\n",
       "      <td>252</td>\n",
       "      <td>10</td>\n",
       "      <td>47</td>\n",
       "      <td>1</td>\n",
       "    </tr>\n",
       "    <tr>\n",
       "      <th>40727</th>\n",
       "      <td>How much is twitch prime for a year for amazon?</td>\n",
       "      <td>30-day free trial, then $12.99/mo.[Annual plan...</td>\n",
       "      <td>1</td>\n",
       "      <td>how much is twitch prime for a year for amazon?</td>\n",
       "      <td>30-day free trial, then $12.99/mo.[annual plan...</td>\n",
       "      <td>47</td>\n",
       "      <td>153</td>\n",
       "      <td>10</td>\n",
       "      <td>10</td>\n",
       "      <td>1</td>\n",
       "    </tr>\n",
       "    <tr>\n",
       "      <th>42173</th>\n",
       "      <td>Who is twitch owned by for amazon?</td>\n",
       "      <td>President Donald Trump has joined streaming se...</td>\n",
       "      <td>1</td>\n",
       "      <td>who is twitch owned by for amazon?</td>\n",
       "      <td>president donald trump has joined streaming se...</td>\n",
       "      <td>34</td>\n",
       "      <td>1850</td>\n",
       "      <td>7</td>\n",
       "      <td>303</td>\n",
       "      <td>1</td>\n",
       "    </tr>\n",
       "  </tbody>\n",
       "</table>\n",
       "</div>"
      ],
      "text/plain": [
       "                                                   query  \\\n",
       "2222   How do you get prime fortnite skins on twitch ...   \n",
       "3834         How much money does twitch make for Amazon?   \n",
       "9252   How do I claim my prime loot on twitch for ama...   \n",
       "10928        Do twitch Prime subs give money for amazon?   \n",
       "18302                   How much is Amazon Prime twitch?   \n",
       "26139           Is twitch owned by Microsoft for amazon?   \n",
       "40246  How much money did twitch make in 2018 for ama...   \n",
       "40727    How much is twitch prime for a year for amazon?   \n",
       "42173                 Who is twitch owned by for amazon?   \n",
       "\n",
       "                                                document  label  \\\n",
       "2222   Fortnite Battle Royale—one of the world’s most...      1   \n",
       "3834    Integrated Advertisements\\n\\nCommon among vid...      1   \n",
       "9252   How do I get my content?\\n1. Click 'Claim Now'...      1   \n",
       "10928  f you are not an Amazon Prime subscriber yet, ...      1   \n",
       "18302  Twitch Prime is the newest enhancement for Ama...      1   \n",
       "26139  On August 25, 2014, Amazon acquired Twitch Int...      1   \n",
       "40246  It brought in about $230 million in ad revenue...      1   \n",
       "40727  30-day free trial, then $12.99/mo.[Annual plan...      1   \n",
       "42173  President Donald Trump has joined streaming se...      1   \n",
       "\n",
       "                                               query_cln  \\\n",
       "2222   how do you get prime fortnite skins on twitch ...   \n",
       "3834         how much money does twitch make for amazon?   \n",
       "9252   how do i claim my prime loot on twitch for ama...   \n",
       "10928        do twitch prime subs give money for amazon?   \n",
       "18302                   how much is amazon prime twitch?   \n",
       "26139           is twitch owned by microsoft for amazon?   \n",
       "40246  how much money did twitch make in 2018 for ama...   \n",
       "40727    how much is twitch prime for a year for amazon?   \n",
       "42173                 who is twitch owned by for amazon?   \n",
       "\n",
       "                                            document_cln  query_len  \\\n",
       "2222   fortnite battle royale—one of the world’s most...         57   \n",
       "3834    integrated advertisements  common among video...         43   \n",
       "9252   how do i get my content? 1. click 'claim now' ...         50   \n",
       "10928  f you are not an amazon prime subscriber yet, ...         43   \n",
       "18302  twitch prime is the newest enhancement for ama...         32   \n",
       "26139  on august 25, 2014, amazon acquired twitch int...         40   \n",
       "40246  it brought in about $230 million in ad revenue...         50   \n",
       "40727  30-day free trial, then $12.99/mo.[annual plan...         47   \n",
       "42173  president donald trump has joined streaming se...         34   \n",
       "\n",
       "       document_len  query_word_count  document_word_count  amazon_related  \n",
       "2222           1494                11                  232               1  \n",
       "3834           1647                 8                  258               1  \n",
       "9252            853                11                  153               1  \n",
       "10928          1025                 8                  176               1  \n",
       "18302           791                 6                  108               1  \n",
       "26139          1091                 7                  169               1  \n",
       "40246           252                10                   47               1  \n",
       "40727           153                10                   10               1  \n",
       "42173          1850                 7                  303               1  "
      ]
     },
     "execution_count": 458,
     "metadata": {},
     "output_type": "execute_result"
    }
   ],
   "source": [
    "df_q_d[df_q_d['query'].str.contains('twitch')]"
   ]
  },
  {
   "cell_type": "code",
   "execution_count": 366,
   "metadata": {},
   "outputs": [
    {
     "data": {
      "text/html": [
       "<div>\n",
       "<style scoped>\n",
       "    .dataframe tbody tr th:only-of-type {\n",
       "        vertical-align: middle;\n",
       "    }\n",
       "\n",
       "    .dataframe tbody tr th {\n",
       "        vertical-align: top;\n",
       "    }\n",
       "\n",
       "    .dataframe thead th {\n",
       "        text-align: right;\n",
       "    }\n",
       "</style>\n",
       "<table border=\"1\" class=\"dataframe\">\n",
       "  <thead>\n",
       "    <tr style=\"text-align: right;\">\n",
       "      <th></th>\n",
       "      <th>anchor</th>\n",
       "      <th>related</th>\n",
       "    </tr>\n",
       "  </thead>\n",
       "  <tbody>\n",
       "    <tr>\n",
       "      <th>0</th>\n",
       "      <td>I have an unauthorized charge on my card.</td>\n",
       "      <td>[ if you place an order from one of our third-...</td>\n",
       "    </tr>\n",
       "    <tr>\n",
       "      <th>1</th>\n",
       "      <td>what state is coffeyville in?</td>\n",
       "      <td>[coffeyville, kansas,  not to be confused with...</td>\n",
       "    </tr>\n",
       "    <tr>\n",
       "      <th>2</th>\n",
       "      <td>what time zone for minneapolis minnesota</td>\n",
       "      <td>[ minnesota is in the central time zone in the...</td>\n",
       "    </tr>\n",
       "  </tbody>\n",
       "</table>\n",
       "</div>"
      ],
      "text/plain": [
       "                                      anchor  \\\n",
       "0  I have an unauthorized charge on my card.   \n",
       "1              what state is coffeyville in?   \n",
       "2   what time zone for minneapolis minnesota   \n",
       "\n",
       "                                             related  \n",
       "0  [ if you place an order from one of our third-...  \n",
       "1  [coffeyville, kansas,  not to be confused with...  \n",
       "2  [ minnesota is in the central time zone in the...  "
      ]
     },
     "execution_count": 366,
     "metadata": {},
     "output_type": "execute_result"
    }
   ],
   "source": [
    "test.groupby('anchor')['related'].apply(list).reset_index(name='related')"
   ]
  },
  {
   "cell_type": "code",
   "execution_count": 365,
   "metadata": {},
   "outputs": [
    {
     "data": {
      "text/html": [
       "<div>\n",
       "<style scoped>\n",
       "    .dataframe tbody tr th:only-of-type {\n",
       "        vertical-align: middle;\n",
       "    }\n",
       "\n",
       "    .dataframe tbody tr th {\n",
       "        vertical-align: top;\n",
       "    }\n",
       "\n",
       "    .dataframe thead th {\n",
       "        text-align: right;\n",
       "    }\n",
       "</style>\n",
       "<table border=\"1\" class=\"dataframe\">\n",
       "  <thead>\n",
       "    <tr style=\"text-align: right;\">\n",
       "      <th></th>\n",
       "      <th>anchor</th>\n",
       "      <th>related</th>\n",
       "    </tr>\n",
       "  </thead>\n",
       "  <tbody>\n",
       "    <tr>\n",
       "      <th>0</th>\n",
       "      <td>I have an unauthorized charge on my card.</td>\n",
       "      <td>[ if you place an order from one of our third-...</td>\n",
       "    </tr>\n",
       "    <tr>\n",
       "      <th>1</th>\n",
       "      <td>what state is coffeyville in?</td>\n",
       "      <td>[coffeyville, kansas,  not to be confused with...</td>\n",
       "    </tr>\n",
       "    <tr>\n",
       "      <th>2</th>\n",
       "      <td>what time zone for minneapolis minnesota</td>\n",
       "      <td>[ minnesota is in the central time zone in the...</td>\n",
       "    </tr>\n",
       "  </tbody>\n",
       "</table>\n",
       "</div>"
      ],
      "text/plain": [
       "                                      anchor  \\\n",
       "0  I have an unauthorized charge on my card.   \n",
       "1              what state is coffeyville in?   \n",
       "2   what time zone for minneapolis minnesota   \n",
       "\n",
       "                                             related  \n",
       "0  [ if you place an order from one of our third-...  \n",
       "1  [coffeyville, kansas,  not to be confused with...  \n",
       "2  [ minnesota is in the central time zone in the...  "
      ]
     },
     "execution_count": 365,
     "metadata": {},
     "output_type": "execute_result"
    }
   ],
   "source": [
    "test.groupby('anchor')['score'].apply('mean').reset_index(name='related')"
   ]
  }
 ],
 "metadata": {
  "kernelspec": {
   "display_name": "conda_pytorch_p36",
   "language": "python",
   "name": "conda_pytorch_p36"
  },
  "language_info": {
   "codemirror_mode": {
    "name": "ipython",
    "version": 3
   },
   "file_extension": ".py",
   "mimetype": "text/x-python",
   "name": "python",
   "nbconvert_exporter": "python",
   "pygments_lexer": "ipython3",
   "version": "3.6.10"
  }
 },
 "nbformat": 4,
 "nbformat_minor": 4
}
